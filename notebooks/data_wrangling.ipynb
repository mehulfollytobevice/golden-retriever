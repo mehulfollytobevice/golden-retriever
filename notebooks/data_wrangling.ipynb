{
 "cells": [
  {
   "cell_type": "markdown",
   "metadata": {},
   "source": [
    "# Data wrangling:"
   ]
  },
  {
   "cell_type": "code",
   "execution_count": 26,
   "metadata": {},
   "outputs": [],
   "source": [
    "from docutils.core import publish_doctree\n",
    "import rstparse\n",
    "import os\n",
    "import re "
   ]
  },
  {
   "cell_type": "markdown",
   "metadata": {},
   "source": [
    "Where is the data present?"
   ]
  },
  {
   "cell_type": "code",
   "execution_count": 31,
   "metadata": {},
   "outputs": [
    {
     "name": "stdout",
     "output_type": "stream",
     "text": [
      "../pandas/doc/source/user_guide/sparse.rst\n",
      "../pandas/doc/source/user_guide/index.rst\n",
      "../pandas/doc/source/user_guide/scale.rst\n",
      "../pandas/doc/source/user_guide/boolean.rst\n",
      "../pandas/doc/source/user_guide/reshaping.rst\n",
      "../pandas/doc/source/user_guide/io.rst\n",
      "../pandas/doc/source/user_guide/integer_na.rst\n",
      "../pandas/doc/source/user_guide/gotchas.rst\n",
      "../pandas/doc/source/user_guide/options.rst\n",
      "../pandas/doc/source/user_guide/missing_data.rst\n",
      "../pandas/doc/source/user_guide/dsintro.rst\n",
      "../pandas/doc/source/user_guide/merging.rst\n",
      "../pandas/doc/source/user_guide/indexing.rst\n",
      "../pandas/doc/source/user_guide/10min.rst\n",
      "../pandas/doc/source/user_guide/window.rst\n",
      "../pandas/doc/source/user_guide/copy_on_write.rst\n",
      "../pandas/doc/source/user_guide/categorical.rst\n",
      "../pandas/doc/source/user_guide/timedeltas.rst\n",
      "../pandas/doc/source/user_guide/groupby.rst\n",
      "../pandas/doc/source/user_guide/pyarrow.rst\n",
      "../pandas/doc/source/user_guide/enhancingperf.rst\n",
      "../pandas/doc/source/user_guide/duplicates.rst\n",
      "../pandas/doc/source/user_guide/timeseries.rst\n",
      "../pandas/doc/source/user_guide/basics.rst\n",
      "../pandas/doc/source/user_guide/cookbook.rst\n",
      "../pandas/doc/source/user_guide/text.rst\n",
      "../pandas/doc/source/user_guide/advanced.rst\n",
      "../pandas/doc/source/user_guide/visualization.rst\n"
     ]
    }
   ],
   "source": [
    "# def extract_text_from_rst(file_path):\n",
    "#     with open(file_path, 'r', encoding='utf-8') as file:\n",
    "#         content = file.read()\n",
    "#         # Parse the reST content\n",
    "#         doctree = publish_doctree(content)\n",
    "#         # Extract the text from the document tree\n",
    "#         text = ''.join(doctree.astext())\n",
    "#         return text\n",
    "\n",
    "def extract_text_from_rst(file_path):\n",
    "    rst = rstparse.Parser()\n",
    "    with open(file_path, 'r', encoding='utf-8') as file:\n",
    "        rst.read(file)\n",
    "    rst.parse()\n",
    "\n",
    "    # Extract the text from the document tree\n",
    "    text = ''.join([line for line in rst.lines])\n",
    "    return text\n",
    "\n",
    "# Example usage\n",
    "doc_text=[]\n",
    "rst_dir = '../pandas/doc/source/user_guide'\n",
    "for root, dirs, files in os.walk(rst_dir):\n",
    "    for file in files:\n",
    "        if file.endswith('.rst'):\n",
    "            file_path = os.path.join(root, file)\n",
    "            text = extract_text_from_rst(file_path)\n",
    "            # Do something with the extracted text\n",
    "            # print(text[:1000])  # Print first 1000 characters\n",
    "            print(file_path)\n",
    "            doc_text.append(text)"
   ]
  },
  {
   "cell_type": "code",
   "execution_count": 32,
   "metadata": {},
   "outputs": [
    {
     "data": {
      "text/plain": [
       "'.. _sparse:{{ header }}**********************Sparse data structures**********************pandas provides data structures for efficiently storing sparse data.These are not necessarily sparse in the typical \"mostly 0\". Rather, you can view theseobjects as being \"compressed\" where any data matching a specific value (``NaN`` / missing value, though any valuecan be chosen, including 0) is omitted. The compressed values are not actually stored in the array... ipython:: python   arr = np.random.randn(10)   arr[2:-2] = np.nan   ts = pd.Series(pd.arrays.SparseArray(arr))   tsNotice the dtype, ``Sparse[float64, nan]``. The ``nan`` means that elements in thearray that are ``nan`` aren\\'t actually stored, only the non-``nan`` elements are.Those non-``nan`` elements have a ``float64`` dtype.The sparse objects exist for memory efficiency reasons. Suppose you had alarge, mostly NA :class:`DataFrame`:.. ipython:: python   df = pd.DataFrame(np.random.randn(10000, 4))   df.iloc[:9998] = np.nan   sdf = df.astype(pd.SparseDtype(\"float\", np.nan))   sdf.head()   sdf.dtypes   sdf.sparse.densityAs you can see, the density (% of values that have not been \"compressed\") isextremely low. This sparse object takes up much less memory on disk (pickled)and in the Python interpreter... ipython:: python   \\'dense : {:0.2f} bytes\\'.format(df.memory_usage().sum() / 1e3)   \\'sparse: {:0.2f} bytes\\'.format(sdf.memory_usage().sum() / 1e3)Functionally, their behavior should be nearlyidentical to their dense counterparts... _sparse.array:SparseArray-----------:class:`arrays.SparseArray` is a :class:`~pandas.api.extensions.ExtensionArray`for storing an array of sparse values (see :ref:`basics.dtypes` for moreon extension arrays). It is a 1-dimensional ndarray-like object storingonly values distinct from the ``fill_value``:.. ipython:: python   arr = np.random.randn(10)   arr[2:5] = np.nan   arr[7:8] = np.nan   sparr = pd.arrays.SparseArray(arr)   sparrA sparse array can be converted to a regular (dense) ndarray with :meth:`numpy.asarray`.. ipython:: python   np.asarray(sparr).. _sparse.dtype:SparseDtype-----------The :attr:`SparseArray.dtype` property stores two pieces of information1. The dtype of the non-sparse values2. The scalar fill value.. ipython:: python   sparr.dtypeA :class:`SparseDtype` may be constructed by passing only a dtype.. ipython:: python   pd.SparseDtype(np.dtype(\\'datetime64[ns]\\'))in which case a default fill value will be used (for NumPy dtypes this is often the\"missing\" value for that dtype). To override this default an explicit fill value may bepassed instead.. ipython:: python   pd.SparseDtype(np.dtype(\\'datetime64[ns]\\'),                  fill_value=pd.Timestamp(\\'2017-01-01\\'))Finally, the string alias ``\\'Sparse[dtype]\\'`` may be used to specify a sparse dtypein many places.. ipython:: python   pd.array([1, 0, 0, 2], dtype=\\'Sparse[int]\\').. _sparse.accessor:Sparse accessor---------------pandas provides a ``.sparse`` accessor, similar to ``.str`` for string data, ``.cat``for categorical data, and ``.dt`` for datetime-like data. This namespace providesattributes and methods that are specific to sparse data... ipython:: python   s = pd.Series([0, 0, 1, 2], dtype=\"Sparse[int]\")   s.sparse.density   s.sparse.fill_valueThis accessor is available only on data with ``SparseDtype``, and on the :class:`Series`class itself for creating a Series with sparse data from a scipy COO matrix with.A ``.sparse`` accessor has been added for :class:`DataFrame` as well.See :ref:`api.frame.sparse` for more... _sparse.calculation:Sparse calculation------------------You can apply NumPy `ufuncs <https://numpy.org/doc/stable/reference/ufuncs.html>`_to :class:`arrays.SparseArray` and get a :class:`arrays.SparseArray` as a result... ipython:: python   arr = pd.arrays.SparseArray([1., np.nan, np.nan, -2., np.nan])   np.abs(arr)The *ufunc* is also applied to ``fill_value``. This is needed to getthe correct dense result... ipython:: python   arr = pd.arrays.SparseArray([1., -1, -1, -2., -1], fill_value=-1)   np.abs(arr)   np.abs(arr).to_dense()**Conversion**To convert data from sparse to dense, use the ``.sparse`` accessors.. ipython:: python   sdf.sparse.to_dense()From dense to sparse, use :meth:`DataFrame.astype` with a :class:`SparseDtype`... ipython:: python   dense = pd.DataFrame({\"A\": [1, 0, 0, 1]})   dtype = pd.SparseDtype(int, fill_value=0)   dense.astype(dtype).. _sparse.scipysparse:Interaction with *scipy.sparse*-------------------------------Use :meth:`DataFrame.sparse.from_spmatrix` to create a :class:`DataFrame` with sparse values from a sparse matrix... ipython:: python   from scipy.sparse import csr_matrix   arr = np.random.random(size=(1000, 5))   arr[arr < .9] = 0   sp_arr = csr_matrix(arr)   sp_arr   sdf = pd.DataFrame.sparse.from_spmatrix(sp_arr)   sdf.head()   sdf.dtypesAll sparse formats are supported, but matrices that are not in :mod:`COOrdinate <scipy.sparse>` format will be converted, copying data as needed.To convert back to sparse SciPy matrix in COO format, you can use the :meth:`DataFrame.sparse.to_coo` method:.. ipython:: python   sdf.sparse.to_coo():meth:`Series.sparse.to_coo` is implemented for transforming a :class:`Series` with sparse values indexed by a :class:`MultiIndex` to a :class:`scipy.sparse.coo_matrix`.The method requires a :class:`MultiIndex` with two or more levels... ipython:: python   s = pd.Series([3.0, np.nan, 1.0, 3.0, np.nan, np.nan])   s.index = pd.MultiIndex.from_tuples(       [           (1, 2, \"a\", 0),           (1, 2, \"a\", 1),           (1, 1, \"b\", 0),           (1, 1, \"b\", 1),           (2, 1, \"b\", 0),           (2, 1, \"b\", 1),       ],       names=[\"A\", \"B\", \"C\", \"D\"],   )   ss = s.astype(\\'Sparse\\')   ssIn the example below, we transform the :class:`Series` to a sparse representation of a 2-d array by specifying that the first and second ``MultiIndex`` levels define labels for the rows and the third and fourth levels define labels for the columns. We also specify that the column and row labels should be sorted in the final sparse representation... ipython:: python   A, rows, columns = ss.sparse.to_coo(       row_levels=[\"A\", \"B\"], column_levels=[\"C\", \"D\"], sort_labels=True   )   A   A.todense()   rows   columnsSpecifying different row and column labels (and not sorting them) yields a different sparse matrix:.. ipython:: python   A, rows, columns = ss.sparse.to_coo(       row_levels=[\"A\", \"B\", \"C\"], column_levels=[\"D\"], sort_labels=False   )   A   A.todense()   rows   columnsA convenience method :meth:`Series.sparse.from_coo` is implemented for creating a :class:`Series` with sparse values from a ``scipy.sparse.coo_matrix``... ipython:: python   from scipy import sparse   A = sparse.coo_matrix(([3.0, 1.0, 2.0], ([1, 0, 0], [0, 2, 3])), shape=(3, 4))   A   A.todense()The default behaviour (with ``dense_index=False``) simply returns a :class:`Series` containingonly the non-null entries... ipython:: python   ss = pd.Series.sparse.from_coo(A)   ssSpecifying ``dense_index=True`` will result in an index that is the Cartesian product of therow and columns coordinates of the matrix. Note that this will consume a significant amount of memory(relative to ``dense_index=False``) if the sparse matrix is large (and sparse) enough... ipython:: python   ss_dense = pd.Series.sparse.from_coo(A, dense_index=True)   ss_dense'"
      ]
     },
     "execution_count": 32,
     "metadata": {},
     "output_type": "execute_result"
    }
   ],
   "source": [
    "doc_text[0]"
   ]
  },
  {
   "cell_type": "code",
   "execution_count": 15,
   "metadata": {},
   "outputs": [
    {
     "name": "stdout",
     "output_type": "stream",
     "text": [
      "10min.rst         duplicates.rst    merging.rst       \u001b[34mtemplates\u001b[m\u001b[m\n",
      "advanced.rst      enhancingperf.rst missing_data.rst  text.rst\n",
      "basics.rst        gotchas.rst       options.rst       timedeltas.rst\n",
      "boolean.rst       groupby.rst       pyarrow.rst       timeseries.rst\n",
      "categorical.rst   index.rst         reshaping.rst     visualization.rst\n",
      "cookbook.rst      indexing.rst      scale.rst         window.rst\n",
      "copy_on_write.rst integer_na.rst    sparse.rst\n",
      "dsintro.rst       io.rst            style.ipynb\n"
     ]
    }
   ],
   "source": [
    "!ls ../pandas/doc/source/user_guide"
   ]
  },
  {
   "cell_type": "markdown",
   "metadata": {},
   "source": [
    "Test out the preprocessing function. "
   ]
  },
  {
   "cell_type": "code",
   "execution_count": 33,
   "metadata": {},
   "outputs": [
    {
     "name": "stdout",
     "output_type": "stream",
     "text": [
      "this is some raw text from the documentation\n"
     ]
    }
   ],
   "source": [
    "def clean_text(text):\n",
    "    # Remove special characters and extra whitespace\n",
    "    text = re.sub(r'\\s+', ' ', text)\n",
    "    text = re.sub(r'[^\\w\\s]', '', text)\n",
    "    return text.lower()\n",
    "\n",
    "# Example usage\n",
    "raw_text = \"This is some raw text from the documentation.\"\n",
    "cleaned_text = clean_text(raw_text)\n",
    "print(cleaned_text)"
   ]
  },
  {
   "cell_type": "markdown",
   "metadata": {},
   "source": [
    "Clean the docs"
   ]
  },
  {
   "cell_type": "code",
   "execution_count": 34,
   "metadata": {},
   "outputs": [],
   "source": [
    "cleaned_docs=[]\n",
    "\n",
    "for i in  doc_text:\n",
    "    tt= clean_text(i)\n",
    "    cleaned_docs.append(tt)"
   ]
  },
  {
   "cell_type": "markdown",
   "metadata": {},
   "source": [
    "What does a cleaned document look like?"
   ]
  },
  {
   "cell_type": "code",
   "execution_count": 35,
   "metadata": {},
   "outputs": [
    {
     "data": {
      "text/plain": [
       "' _sparse header sparse data structurespandas provides data structures for efficiently storing sparse datathese are not necessarily sparse in the typical mostly 0 rather you can view theseobjects as being compressed where any data matching a specific value nan  missing value though any valuecan be chosen including 0 is omitted the compressed values are not actually stored in the array ipython python arr  nprandomrandn10 arr22  npnan ts  pdseriespdarrayssparsearrayarr tsnotice the dtype sparsefloat64 nan the nan means that elements in thearray that are nan arent actually stored only the nonnan elements arethose nonnan elements have a float64 dtypethe sparse objects exist for memory efficiency reasons suppose you had alarge mostly na classdataframe ipython python df  pddataframenprandomrandn10000 4 dfiloc9998  npnan sdf  dfastypepdsparsedtypefloat npnan sdfhead sdfdtypes sdfsparsedensityas you can see the density  of values that have not been compressed isextremely low this sparse object takes up much less memory on disk pickledand in the python interpreter ipython python dense  02f bytesformatdfmemory_usagesum  1e3 sparse 02f bytesformatsdfmemory_usagesum  1e3functionally their behavior should be nearlyidentical to their dense counterparts _sparsearraysparsearrayclassarrayssparsearray is a classpandasapiextensionsextensionarrayfor storing an array of sparse values see refbasicsdtypes for moreon extension arrays it is a 1dimensional ndarraylike object storingonly values distinct from the fill_value ipython python arr  nprandomrandn10 arr25  npnan arr78  npnan sparr  pdarrayssparsearrayarr sparra sparse array can be converted to a regular dense ndarray with methnumpyasarray ipython python npasarraysparr _sparsedtypesparsedtypethe attrsparsearraydtype property stores two pieces of information1 the dtype of the nonsparse values2 the scalar fill value ipython python sparrdtypea classsparsedtype may be constructed by passing only a dtype ipython python pdsparsedtypenpdtypedatetime64nsin which case a default fill value will be used for numpy dtypes this is often themissing value for that dtype to override this default an explicit fill value may bepassed instead ipython python pdsparsedtypenpdtypedatetime64ns fill_valuepdtimestamp20170101finally the string alias sparsedtype may be used to specify a sparse dtypein many places ipython python pdarray1 0 0 2 dtypesparseint _sparseaccessorsparse accessorpandas provides a sparse accessor similar to str for string data catfor categorical data and dt for datetimelike data this namespace providesattributes and methods that are specific to sparse data ipython python s  pdseries0 0 1 2 dtypesparseint ssparsedensity ssparsefill_valuethis accessor is available only on data with sparsedtype and on the classseriesclass itself for creating a series with sparse data from a scipy coo matrix witha sparse accessor has been added for classdataframe as wellsee refapiframesparse for more _sparsecalculationsparse calculationyou can apply numpy ufuncs httpsnumpyorgdocstablereferenceufuncshtml_to classarrayssparsearray and get a classarrayssparsearray as a result ipython python arr  pdarrayssparsearray1 npnan npnan 2 npnan npabsarrthe ufunc is also applied to fill_value this is needed to getthe correct dense result ipython python arr  pdarrayssparsearray1 1 1 2 1 fill_value1 npabsarr npabsarrto_denseconversionto convert data from sparse to dense use the sparse accessors ipython python sdfsparseto_densefrom dense to sparse use methdataframeastype with a classsparsedtype ipython python dense  pddataframea 1 0 0 1 dtype  pdsparsedtypeint fill_value0 denseastypedtype _sparsescipysparseinteraction with scipysparseuse methdataframesparsefrom_spmatrix to create a classdataframe with sparse values from a sparse matrix ipython python from scipysparse import csr_matrix arr  nprandomrandomsize1000 5 arrarr  9  0 sp_arr  csr_matrixarr sp_arr sdf  pddataframesparsefrom_spmatrixsp_arr sdfhead sdfdtypesall sparse formats are supported but matrices that are not in modcoordinate scipysparse format will be converted copying data as neededto convert back to sparse scipy matrix in coo format you can use the methdataframesparseto_coo method ipython python sdfsparseto_coomethseriessparseto_coo is implemented for transforming a classseries with sparse values indexed by a classmultiindex to a classscipysparsecoo_matrixthe method requires a classmultiindex with two or more levels ipython python s  pdseries30 npnan 10 30 npnan npnan sindex  pdmultiindexfrom_tuples  1 2 a 0 1 2 a 1 1 1 b 0 1 1 b 1 2 1 b 0 2 1 b 1  namesa b c d  ss  sastypesparse ssin the example below we transform the classseries to a sparse representation of a 2d array by specifying that the first and second multiindex levels define labels for the rows and the third and fourth levels define labels for the columns we also specify that the column and row labels should be sorted in the final sparse representation ipython python a rows columns  sssparseto_coo row_levelsa b column_levelsc d sort_labelstrue  a atodense rows columnsspecifying different row and column labels and not sorting them yields a different sparse matrix ipython python a rows columns  sssparseto_coo row_levelsa b c column_levelsd sort_labelsfalse  a atodense rows columnsa convenience method methseriessparsefrom_coo is implemented for creating a classseries with sparse values from a scipysparsecoo_matrix ipython python from scipy import sparse a  sparsecoo_matrix30 10 20 1 0 0 0 2 3 shape3 4 a atodensethe default behaviour with dense_indexfalse simply returns a classseries containingonly the nonnull entries ipython python ss  pdseriessparsefrom_cooa ssspecifying dense_indextrue will result in an index that is the cartesian product of therow and columns coordinates of the matrix note that this will consume a significant amount of memoryrelative to dense_indexfalse if the sparse matrix is large and sparse enough ipython python ss_dense  pdseriessparsefrom_cooa dense_indextrue ss_dense'"
      ]
     },
     "execution_count": 35,
     "metadata": {},
     "output_type": "execute_result"
    }
   ],
   "source": [
    "cleaned_docs[0]"
   ]
  },
  {
   "cell_type": "code",
   "execution_count": null,
   "metadata": {},
   "outputs": [],
   "source": []
  }
 ],
 "metadata": {
  "kernelspec": {
   "display_name": "Python 3.9.19 ('capstone_2')",
   "language": "python",
   "name": "python3"
  },
  "language_info": {
   "codemirror_mode": {
    "name": "ipython",
    "version": 3
   },
   "file_extension": ".py",
   "mimetype": "text/x-python",
   "name": "python",
   "nbconvert_exporter": "python",
   "pygments_lexer": "ipython3",
   "version": "3.9.19"
  },
  "orig_nbformat": 4,
  "vscode": {
   "interpreter": {
    "hash": "e1724946d96863f06248c9017cc9445c65c29b8a8b3883487c3fdbdc369b2c93"
   }
  }
 },
 "nbformat": 4,
 "nbformat_minor": 2
}
