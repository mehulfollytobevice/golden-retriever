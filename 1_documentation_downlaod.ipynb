{
 "cells": [
  {
   "cell_type": "markdown",
   "id": "e2a46914",
   "metadata": {},
   "source": [
    "### The notebook includes steps to download, extract, and prepare the documentation for use in the RAG system."
   ]
  },
  {
   "cell_type": "code",
   "execution_count": 1,
   "id": "f3a66a25-ae4e-4889-b926-192c9a0f488e",
   "metadata": {},
   "outputs": [],
   "source": [
    "# Import necessary libraries\n",
    "\n",
    "import requests\n",
    "import zipfile\n",
    "import os"
   ]
  },
  {
   "cell_type": "markdown",
   "id": "d3200aeb-19c5-48a0-8002-04a154897cde",
   "metadata": {
    "tags": []
   },
   "source": [
    "## pandas"
   ]
  },
  {
   "cell_type": "code",
   "execution_count": 1,
   "id": "5b8328ba-94dc-4e42-b5a6-10bba3cc334b",
   "metadata": {},
   "outputs": [
    {
     "name": "stdout",
     "output_type": "stream",
     "text": [
      "Documentation downloaded and extracted to ../documents/pandas_docs\n"
     ]
    }
   ],
   "source": [
    "\"\"\"\n",
    "Downloads a zip file from the specified URL and extracts its contents to the given directory.\n",
    "\n",
    "Parameters:\n",
    "- url (str): The URL of the zip file to download.\n",
    "- zip_file_path (str): The path where the zip file will be saved.\n",
    "- extract_dir (str): The directory where the contents will be extracted.\n",
    "\"\"\"\n",
    "\n",
    "# URL of the pandas documentation zip file\n",
    "url = 'https://pandas.pydata.org/pandas-docs/stable/pandas.zip'\n",
    "\n",
    "# Path to save the downloaded file\n",
    "zip_file_path = '../documents/pandas_docs.zip'\n",
    "\n",
    "# Download the file\n",
    "response = requests.get(url)\n",
    "with open(zip_file_path, 'wb') as file:\n",
    "    file.write(response.content)\n",
    "\n",
    "# Create a directory to extract the contents\n",
    "extract_dir = '../documents/pandas_docs'\n",
    "os.makedirs(extract_dir, exist_ok=True)\n",
    "\n",
    "# Extract the zip file\n",
    "with zipfile.ZipFile(zip_file_path, 'r') as zip_ref:\n",
    "    zip_ref.extractall(extract_dir)\n",
    "\n",
    "print(f'Documentation downloaded and extracted to {extract_dir}')"
   ]
  },
  {
   "cell_type": "markdown",
   "id": "a0766ad2-ce8a-49c5-8302-6fbdd716d76a",
   "metadata": {},
   "source": [
    "## scikit-learn"
   ]
  },
  {
   "cell_type": "code",
   "execution_count": 2,
   "id": "c962cebd-e0bb-461a-a7f4-e06725c74386",
   "metadata": {},
   "outputs": [
    {
     "name": "stdout",
     "output_type": "stream",
     "text": [
      "Documentation downloaded and extracted to ../documents/scikit_learn_docs\n"
     ]
    }
   ],
   "source": [
    "\n",
    "# URL of the scikit-learn documentation zip file\n",
    "url = 'https://scikit-learn.org/stable//_downloads/scikit-learn-docs.zip'\n",
    "\n",
    "# Path to save the downloaded file\n",
    "zip_file_path = '../documents/scikit_learn_docs.zip'\n",
    "\n",
    "# Download the file\n",
    "response = requests.get(url)\n",
    "with open(zip_file_path, 'wb') as file:\n",
    "    file.write(response.content)\n",
    "\n",
    "# Create a directory to extract the contents\n",
    "extract_dir = '../documents/scikit_learn_docs'\n",
    "os.makedirs(extract_dir, exist_ok=True)\n",
    "\n",
    "# Extract the zip file\n",
    "with zipfile.ZipFile(zip_file_path, 'r') as zip_ref:\n",
    "    zip_ref.extractall(extract_dir)\n",
    "\n",
    "print(f'Documentation downloaded and extracted to {extract_dir}')"
   ]
  },
  {
   "cell_type": "markdown",
   "id": "8ddeb924-fc57-4749-b504-81bc8dffb62c",
   "metadata": {},
   "source": [
    "## numpy"
   ]
  },
  {
   "cell_type": "code",
   "execution_count": 2,
   "id": "08dafe6f-07cb-4522-8d51-32a269765032",
   "metadata": {},
   "outputs": [
    {
     "name": "stdout",
     "output_type": "stream",
     "text": [
      "Documentation downloaded and extracted to ../documents/numpy_docs\n"
     ]
    }
   ],
   "source": [
    "# URL of the numpy documentation zip file\n",
    "url = 'https://numpy.org/doc/2.0/numpy-html.zip'\n",
    "\n",
    "# Path to save the downloaded file\n",
    "zip_file_path = '../documents/numpy_docs.zip'\n",
    "\n",
    "# Download the file\n",
    "response = requests.get(url)\n",
    "with open(zip_file_path, 'wb') as file:\n",
    "    file.write(response.content)\n",
    "\n",
    "# Create a directory to extract the contents\n",
    "extract_dir = '../documents/numpy_docs'\n",
    "os.makedirs(extract_dir, exist_ok=True)\n",
    "\n",
    "# Extract the zip file\n",
    "with zipfile.ZipFile(zip_file_path, 'r') as zip_ref:\n",
    "    zip_ref.extractall(extract_dir)\n",
    "\n",
    "print(f'Documentation downloaded and extracted to {extract_dir}')"
   ]
  },
  {
   "cell_type": "code",
   "execution_count": null,
   "id": "e6fe9689-0429-499e-972e-0b4eff7a4a52",
   "metadata": {},
   "outputs": [],
   "source": []
  }
 ],
 "metadata": {
  "kernelspec": {
   "display_name": "Python 3 (ipykernel)",
   "language": "python",
   "name": "python3"
  },
  "language_info": {
   "codemirror_mode": {
    "name": "ipython",
    "version": 3
   },
   "file_extension": ".py",
   "mimetype": "text/x-python",
   "name": "python",
   "nbconvert_exporter": "python",
   "pygments_lexer": "ipython3",
   "version": "3.9.18"
  }
 },
 "nbformat": 4,
 "nbformat_minor": 5
}
