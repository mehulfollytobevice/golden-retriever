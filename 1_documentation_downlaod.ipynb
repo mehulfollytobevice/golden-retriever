{
 "cells": [
  {
   "cell_type": "code",
   "execution_count": 1,
   "id": "f3a66a25-ae4e-4889-b926-192c9a0f488e",
   "metadata": {},
   "outputs": [],
   "source": [
    "import requests\n",
    "import zipfile\n",
    "import os"
   ]
  },
  {
   "cell_type": "markdown",
   "id": "d3200aeb-19c5-48a0-8002-04a154897cde",
   "metadata": {
    "tags": []
   },
   "source": [
    "## pandas"
   ]
  },
  {
   "cell_type": "code",
   "execution_count": 1,
   "id": "5b8328ba-94dc-4e42-b5a6-10bba3cc334b",
   "metadata": {},
   "outputs": [
    {
     "name": "stdout",
     "output_type": "stream",
     "text": [
      "Documentation downloaded and extracted to ../documents/pandas_docs\n"
     ]
    }
   ],
   "source": [
    "\n",
    "# URL of the pandas documentation zip file\n",
    "url = 'https://pandas.pydata.org/pandas-docs/stable/pandas.zip'\n",
    "\n",
    "# Path to save the downloaded file\n",
    "zip_file_path = '../documents/pandas_docs.zip'\n",
    "\n",
    "# Download the file\n",
    "response = requests.get(url)\n",
    "with open(zip_file_path, 'wb') as file:\n",
    "    file.write(response.content)\n",
    "\n",
    "# Create a directory to extract the contents\n",
    "extract_dir = '../documents/pandas_docs'\n",
    "os.makedirs(extract_dir, exist_ok=True)\n",
    "\n",
    "# Extract the zip file\n",
    "with zipfile.ZipFile(zip_file_path, 'r') as zip_ref:\n",
    "    zip_ref.extractall(extract_dir)\n",
    "\n",
    "print(f'Documentation downloaded and extracted to {extract_dir}')"
   ]
  },
  {
   "cell_type": "markdown",
   "id": "a0766ad2-ce8a-49c5-8302-6fbdd716d76a",
   "metadata": {},
   "source": [
    "## scikit-learn"
   ]
  },
  {
   "cell_type": "code",
   "execution_count": 2,
   "id": "c962cebd-e0bb-461a-a7f4-e06725c74386",
   "metadata": {},
   "outputs": [
    {
     "name": "stdout",
     "output_type": "stream",
     "text": [
      "Documentation downloaded and extracted to ../documents/scikit_learn_docs\n"
     ]
    }
   ],
   "source": [
    "\n",
    "# URL of the scikit-learn documentation zip file\n",
    "url = 'https://scikit-learn.org/stable//_downloads/scikit-learn-docs.zip'\n",
    "\n",
    "# Path to save the downloaded file\n",
    "zip_file_path = '../documents/scikit_learn_docs.zip'\n",
    "\n",
    "# Download the file\n",
    "response = requests.get(url)\n",
    "with open(zip_file_path, 'wb') as file:\n",
    "    file.write(response.content)\n",
    "\n",
    "# Create a directory to extract the contents\n",
    "extract_dir = '../documents/scikit_learn_docs'\n",
    "os.makedirs(extract_dir, exist_ok=True)\n",
    "\n",
    "# Extract the zip file\n",
    "with zipfile.ZipFile(zip_file_path, 'r') as zip_ref:\n",
    "    zip_ref.extractall(extract_dir)\n",
    "\n",
    "print(f'Documentation downloaded and extracted to {extract_dir}')"
   ]
  },
  {
   "cell_type": "markdown",
   "id": "8ddeb924-fc57-4749-b504-81bc8dffb62c",
   "metadata": {},
   "source": [
    "## numpy"
   ]
  },
  {
   "cell_type": "code",
   "execution_count": 2,
   "id": "08dafe6f-07cb-4522-8d51-32a269765032",
   "metadata": {},
   "outputs": [
    {
     "name": "stdout",
     "output_type": "stream",
     "text": [
      "Documentation downloaded and extracted to ../documents/numpy_docs\n"
     ]
    }
   ],
   "source": [
    "# URL of the numpy documentation zip file\n",
    "url = 'https://numpy.org/doc/2.0/numpy-html.zip'\n",
    "\n",
    "# Path to save the downloaded file\n",
    "zip_file_path = '../documents/numpy_docs.zip'\n",
    "\n",
    "# Download the file\n",
    "response = requests.get(url)\n",
    "with open(zip_file_path, 'wb') as file:\n",
    "    file.write(response.content)\n",
    "\n",
    "# Create a directory to extract the contents\n",
    "extract_dir = '../documents/numpy_docs'\n",
    "os.makedirs(extract_dir, exist_ok=True)\n",
    "\n",
    "# Extract the zip file\n",
    "with zipfile.ZipFile(zip_file_path, 'r') as zip_ref:\n",
    "    zip_ref.extractall(extract_dir)\n",
    "\n",
    "print(f'Documentation downloaded and extracted to {extract_dir}')"
   ]
  },
  {
   "cell_type": "markdown",
   "id": "5f456ada-09d8-4750-b1fc-d3118a641b7a",
   "metadata": {},
   "source": [
    "## matplotlib"
   ]
  },
  {
   "cell_type": "code",
   "execution_count": 5,
   "id": "6e6cb51c-6b36-44df-ad1b-e1dc14415e5b",
   "metadata": {},
   "outputs": [
    {
     "ename": "TypeError",
     "evalue": "string indices must be integers",
     "output_type": "error",
     "traceback": [
      "\u001b[0;31m---------------------------------------------------------------------------\u001b[0m",
      "\u001b[0;31mTypeError\u001b[0m                                 Traceback (most recent call last)",
      "Input \u001b[0;32mIn [5]\u001b[0m, in \u001b[0;36m<cell line: 32>\u001b[0;34m()\u001b[0m\n\u001b[1;32m     31\u001b[0m \u001b[38;5;66;03m# Download each item in the directory\u001b[39;00m\n\u001b[1;32m     32\u001b[0m \u001b[38;5;28;01mfor\u001b[39;00m item \u001b[38;5;129;01min\u001b[39;00m contents:\n\u001b[0;32m---> 33\u001b[0m     \u001b[43mdownload_file\u001b[49m\u001b[43m(\u001b[49m\u001b[43mitem\u001b[49m\u001b[43m)\u001b[49m\n\u001b[1;32m     35\u001b[0m \u001b[38;5;28mprint\u001b[39m(\u001b[38;5;124mf\u001b[39m\u001b[38;5;124m'\u001b[39m\u001b[38;5;124mDocumentation downloaded to \u001b[39m\u001b[38;5;132;01m{\u001b[39;00mdownload_dir\u001b[38;5;132;01m}\u001b[39;00m\u001b[38;5;124m'\u001b[39m)\n",
      "Input \u001b[0;32mIn [5]\u001b[0m, in \u001b[0;36mdownload_file\u001b[0;34m(file_info)\u001b[0m\n\u001b[1;32m     23\u001b[0m contents \u001b[38;5;241m=\u001b[39m requests\u001b[38;5;241m.\u001b[39mget(file_info[\u001b[38;5;124m'\u001b[39m\u001b[38;5;124murl\u001b[39m\u001b[38;5;124m'\u001b[39m])\u001b[38;5;241m.\u001b[39mjson()\n\u001b[1;32m     24\u001b[0m \u001b[38;5;28;01mfor\u001b[39;00m item \u001b[38;5;129;01min\u001b[39;00m contents:\n\u001b[0;32m---> 25\u001b[0m     \u001b[43mdownload_file\u001b[49m\u001b[43m(\u001b[49m\u001b[43mitem\u001b[49m\u001b[43m)\u001b[49m\n",
      "Input \u001b[0;32mIn [5]\u001b[0m, in \u001b[0;36mdownload_file\u001b[0;34m(file_info)\u001b[0m\n\u001b[1;32m     23\u001b[0m contents \u001b[38;5;241m=\u001b[39m requests\u001b[38;5;241m.\u001b[39mget(file_info[\u001b[38;5;124m'\u001b[39m\u001b[38;5;124murl\u001b[39m\u001b[38;5;124m'\u001b[39m])\u001b[38;5;241m.\u001b[39mjson()\n\u001b[1;32m     24\u001b[0m \u001b[38;5;28;01mfor\u001b[39;00m item \u001b[38;5;129;01min\u001b[39;00m contents:\n\u001b[0;32m---> 25\u001b[0m     \u001b[43mdownload_file\u001b[49m\u001b[43m(\u001b[49m\u001b[43mitem\u001b[49m\u001b[43m)\u001b[49m\n",
      "Input \u001b[0;32mIn [5]\u001b[0m, in \u001b[0;36mdownload_file\u001b[0;34m(file_info)\u001b[0m\n\u001b[1;32m     15\u001b[0m \u001b[38;5;28;01mdef\u001b[39;00m \u001b[38;5;21mdownload_file\u001b[39m(file_info):\n\u001b[0;32m---> 16\u001b[0m     file_path \u001b[38;5;241m=\u001b[39m os\u001b[38;5;241m.\u001b[39mpath\u001b[38;5;241m.\u001b[39mjoin(download_dir, \u001b[43mfile_info\u001b[49m\u001b[43m[\u001b[49m\u001b[38;5;124;43m'\u001b[39;49m\u001b[38;5;124;43mname\u001b[39;49m\u001b[38;5;124;43m'\u001b[39;49m\u001b[43m]\u001b[49m)\n\u001b[1;32m     17\u001b[0m     \u001b[38;5;28;01mif\u001b[39;00m file_info[\u001b[38;5;124m'\u001b[39m\u001b[38;5;124mtype\u001b[39m\u001b[38;5;124m'\u001b[39m] \u001b[38;5;241m==\u001b[39m \u001b[38;5;124m'\u001b[39m\u001b[38;5;124mfile\u001b[39m\u001b[38;5;124m'\u001b[39m:\n\u001b[1;32m     18\u001b[0m         response \u001b[38;5;241m=\u001b[39m requests\u001b[38;5;241m.\u001b[39mget(file_info[\u001b[38;5;124m'\u001b[39m\u001b[38;5;124mdownload_url\u001b[39m\u001b[38;5;124m'\u001b[39m])\n",
      "\u001b[0;31mTypeError\u001b[0m: string indices must be integers"
     ]
    }
   ],
   "source": [
    "import requests\n",
    "import os\n",
    "import base64\n",
    "\n",
    "# GitHub API URL for the 3.9.1 directory\n",
    "api_url = 'https://api.github.com/repos/matplotlib/matplotlib.github.com/contents/3.9.1'\n",
    "\n",
    "# Path to save the downloaded files\n",
    "download_dir = '../documents/matplotlib-docs/3.9.1'\n",
    "\n",
    "# Create the download directory\n",
    "os.makedirs(download_dir, exist_ok=True)\n",
    "\n",
    "# Function to download a file\n",
    "def download_file(file_info):\n",
    "    file_path = os.path.join(download_dir, file_info['name'])\n",
    "    if file_info['type'] == 'file':\n",
    "        response = requests.get(file_info['download_url'])\n",
    "        with open(file_path, 'wb') as file:\n",
    "            file.write(response.content)\n",
    "    elif file_info['type'] == 'dir':\n",
    "        os.makedirs(file_path, exist_ok=True)\n",
    "        contents = requests.get(file_info['url']).json()\n",
    "        for item in contents:\n",
    "            download_file(item)\n",
    "\n",
    "# Get the contents of the 3.9.1 directory\n",
    "response = requests.get(api_url)\n",
    "contents = response.json()\n",
    "\n",
    "# Download each item in the directory\n",
    "for item in contents:\n",
    "    download_file(item)\n",
    "\n",
    "print(f'Documentation downloaded to {download_dir}')"
   ]
  },
  {
   "cell_type": "code",
   "execution_count": null,
   "id": "e6fe9689-0429-499e-972e-0b4eff7a4a52",
   "metadata": {},
   "outputs": [],
   "source": []
  }
 ],
 "metadata": {
  "kernelspec": {
   "display_name": "Python 3 (ipykernel)",
   "language": "python",
   "name": "python3"
  },
  "language_info": {
   "codemirror_mode": {
    "name": "ipython",
    "version": 3
   },
   "file_extension": ".py",
   "mimetype": "text/x-python",
   "name": "python",
   "nbconvert_exporter": "python",
   "pygments_lexer": "ipython3",
   "version": "3.9.12"
  }
 },
 "nbformat": 4,
 "nbformat_minor": 5
}
