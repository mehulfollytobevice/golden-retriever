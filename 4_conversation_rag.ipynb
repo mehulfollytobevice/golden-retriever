{
 "cells": [
  {
   "cell_type": "code",
   "execution_count": 1,
   "id": "c1fd7016-ce76-4506-85d6-8785235738da",
   "metadata": {},
   "outputs": [],
   "source": [
    "# pip install -qU langchain-groq"
   ]
  },
  {
   "cell_type": "code",
   "execution_count": 2,
   "id": "26b61fea-9732-4682-b3f3-48a7951e7764",
   "metadata": {},
   "outputs": [],
   "source": [
    "import getpass\n",
    "import os\n",
    "\n",
    "# os.environ[\"GROQ_API_KEY\"] = getpass.getpass()\n",
    "os.environ[\"GROQ_API_KEY\"]= \"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\""
   ]
  },
  {
   "cell_type": "code",
   "execution_count": 3,
   "id": "2143faa0-6bf8-4273-9c82-720cc8fc9830",
   "metadata": {},
   "outputs": [],
   "source": [
    "from langchain_groq import ChatGroq\n",
    "\n",
    "llm = ChatGroq(model=\"llama-3.1-8b-instant\")"
   ]
  },
  {
   "cell_type": "code",
   "execution_count": 4,
   "id": "cf5746db-d803-4fa4-873c-3e4aa0541ba6",
   "metadata": {},
   "outputs": [
    {
     "name": "stderr",
     "output_type": "stream",
     "text": [
      "USER_AGENT environment variable not set, consider setting it to identify your requests.\n",
      "/Users/mehuljain/miniconda3/envs/capstone_2/lib/python3.9/site-packages/sentence_transformers/cross_encoder/CrossEncoder.py:11: TqdmWarning: IProgress not found. Please update jupyter and ipywidgets. See https://ipywidgets.readthedocs.io/en/stable/user_install.html\n",
      "  from tqdm.autonotebook import tqdm, trange\n"
     ]
    }
   ],
   "source": [
    "import bs4\n",
    "from langchain import hub\n",
    "from langchain.chains import create_retrieval_chain\n",
    "from langchain.chains.combine_documents import create_stuff_documents_chain\n",
    "from langchain_chroma import Chroma\n",
    "from langchain_community.document_loaders import WebBaseLoader\n",
    "from langchain_core.prompts import ChatPromptTemplate\n",
    "from langchain_text_splitters import RecursiveCharacterTextSplitter\n",
    "import os\n",
    "import shutil\n",
    "from langchain.storage._lc_store import create_kv_docstore\n",
    "from langchain.storage import LocalFileStore\n",
    "from langchain.retrievers import ParentDocumentRetriever\n",
    "from langchain.storage import InMemoryStore\n",
    "from langchain_community.document_loaders import TextLoader\n",
    "from langchain_huggingface import HuggingFaceEmbeddings\n",
    "import pickle\n",
    "import torch\n",
    "from sentence_transformers import SentenceTransformer\n",
    "from tqdm import tqdm\n",
    "from langchain_core.documents import Document\n",
    "import json"
   ]
  },
  {
   "cell_type": "markdown",
   "id": "bf12d235-6cbf-47bf-91a8-c7e0ff300caa",
   "metadata": {},
   "source": [
    "## loading stored embedding vectors"
   ]
  },
  {
   "cell_type": "code",
   "execution_count": 5,
   "id": "75502ef3-a3b8-45a5-be7a-94930f7b1e6c",
   "metadata": {},
   "outputs": [],
   "source": [
    "model_name = \"Alibaba-NLP/gte-large-en-v1.5\"\n",
    "embeddings = HuggingFaceEmbeddings(\n",
    "    model_name=model_name,\n",
    "    model_kwargs={\"trust_remote_code\": True}\n",
    ")"
   ]
  },
  {
   "cell_type": "code",
   "execution_count": 6,
   "id": "73fdb27a-6836-453c-9b9a-aaf46f35009d",
   "metadata": {},
   "outputs": [
    {
     "name": "stdout",
     "output_type": "stream",
     "text": [
      "Total RAM: 16.00 GB\n",
      "Available RAM: 2.47 GB\n",
      "Used RAM: 5.60 GB\n",
      "RAM Usage: 84.5%\n"
     ]
    }
   ],
   "source": [
    "import psutil\n",
    "\n",
    "def check_ram():\n",
    "    # Get memory information\n",
    "    memory = psutil.virtual_memory()\n",
    "    \n",
    "    # Convert to GB for easier reading\n",
    "    total = memory.total / (1024.0 ** 3)\n",
    "    available = memory.available / (1024.0 ** 3)\n",
    "    used = memory.used / (1024.0 ** 3)\n",
    "    \n",
    "    print(f\"Total RAM: {total:.2f} GB\")\n",
    "    print(f\"Available RAM: {available:.2f} GB\")\n",
    "    print(f\"Used RAM: {used:.2f} GB\")\n",
    "    print(f\"RAM Usage: {memory.percent}%\")\n",
    "\n",
    "check_ram()"
   ]
  },
  {
   "cell_type": "code",
   "execution_count": 7,
   "id": "0014e956",
   "metadata": {},
   "outputs": [
    {
     "name": "stdout",
     "output_type": "stream",
     "text": [
      "MPS device is available.\n",
      "Total GPU memory allocated: 1664.17 MB\n"
     ]
    }
   ],
   "source": [
    "import torch\n",
    "\n",
    "def check_mps_memory():\n",
    "    if torch.backends.mps.is_available():\n",
    "        print(\"MPS device is available.\")\n",
    "        \n",
    "        # Get the total memory allocated by the Metal driver\n",
    "        total_memory = torch.mps.current_allocated_memory()\n",
    "        \n",
    "        # Convert bytes to megabytes for easier reading\n",
    "        total_memory_mb = total_memory / (1024 * 1024)\n",
    "        \n",
    "        print(f\"Total GPU memory allocated: {total_memory_mb:.2f} MB\")\n",
    "    else:\n",
    "        print(\"MPS device is not available.\")\n",
    "\n",
    "check_mps_memory()"
   ]
  },
  {
   "cell_type": "code",
   "execution_count": 8,
   "id": "d8eaec5e-6dd4-4f74-b9a6-e4fcdb4c593c",
   "metadata": {},
   "outputs": [],
   "source": [
    "parent_doc_path = \"/Users/mehuljain/Documents/course_related/Capstone/rag_ds5500/vector_db/parent_docs\"\n",
    "child_doc_path = \"../vector_db/child_docs\""
   ]
  },
  {
   "cell_type": "code",
   "execution_count": 9,
   "id": "832232db-582c-43ae-a247-ecbcb5eed6df",
   "metadata": {},
   "outputs": [],
   "source": [
    "# This text splitter is used to create the parent documents\n",
    "parent_splitter = RecursiveCharacterTextSplitter(chunk_size=2000, chunk_overlap=200)\n",
    "# This text splitter is used to create the child documents\n",
    "# It should create documents smaller than the parent\n",
    "child_splitter = RecursiveCharacterTextSplitter(chunk_size=500, chunk_overlap=50)\n",
    "# The vectorstore to use to index the child chunks"
   ]
  },
  {
   "cell_type": "code",
   "execution_count": 10,
   "id": "bef6b49f-57be-4557-80b6-3c34e566521e",
   "metadata": {},
   "outputs": [],
   "source": [
    "# Load Chroma vectorstore\n",
    "loaded_vectorstore = Chroma(\n",
    "    collection_name=\"split_parents\",\n",
    "    embedding_function=embeddings,\n",
    "    persist_directory= child_doc_path\n",
    ")\n",
    " \n",
    "# Load parent document store\n",
    "loaded_file_store = LocalFileStore(parent_doc_path)"
   ]
  },
  {
   "cell_type": "code",
   "execution_count": 11,
   "id": "48ee44d0-f5fc-4484-a209-4125373bd34c",
   "metadata": {},
   "outputs": [],
   "source": [
    "class CustomParentDocumentRetriever(ParentDocumentRetriever):\n",
    "    def invoke(self, query, config=None, **kwargs):\n",
    "        results = super().invoke(query, config=config, **kwargs)\n",
    "        documents = []\n",
    "        for result in results:\n",
    "            try:\n",
    "                if isinstance(result, bytes):\n",
    "                    json_string = result.decode('utf-8')\n",
    "                elif isinstance(result, str):\n",
    "                    json_string = result\n",
    "                else:\n",
    "                    print(f\"Unexpected result type: {type(result)}\")\n",
    "                    continue\n",
    "\n",
    "                deserialized_result = json.loads(json_string)\n",
    "                \n",
    "                # Extract metadata and page_content from the deserialized result\n",
    "                metadata = deserialized_result['kwargs']['metadata']\n",
    "                page_content = deserialized_result['kwargs']['page_content']\n",
    "\n",
    "                doc = Document(metadata=metadata, page_content=page_content)\n",
    "                documents.append(doc)\n",
    "            except Exception as e:\n",
    "                print(f\"Error processing result: {e}\")\n",
    "                print(f\"Problematic result: {result}\")\n",
    "\n",
    "        return documents"
   ]
  },
  {
   "cell_type": "code",
   "execution_count": 12,
   "id": "098910b4-368d-4859-8fce-bb710c7cc0be",
   "metadata": {},
   "outputs": [],
   "source": [
    "# Use the custom retriever\n",
    "loaded_retriever = CustomParentDocumentRetriever(\n",
    "    vectorstore=loaded_vectorstore,\n",
    "    docstore=loaded_file_store,\n",
    "    child_splitter=child_splitter,\n",
    "    parent_splitter=parent_splitter\n",
    ")"
   ]
  },
  {
   "cell_type": "code",
   "execution_count": 13,
   "id": "0a2609fe-9dd7-4ea9-b152-6d553f8cbdef",
   "metadata": {},
   "outputs": [
    {
     "data": {
      "text/plain": [
       "13720"
      ]
     },
     "execution_count": 13,
     "metadata": {},
     "output_type": "execute_result"
    }
   ],
   "source": [
    "len(list(loaded_file_store.yield_keys()))"
   ]
  },
  {
   "cell_type": "code",
   "execution_count": 14,
   "id": "f5833540",
   "metadata": {},
   "outputs": [
    {
     "name": "stdout",
     "output_type": "stream",
     "text": [
      "MPS device is available.\n",
      "Total GPU memory allocated: 1664.17 MB\n"
     ]
    }
   ],
   "source": [
    "check_mps_memory()"
   ]
  },
  {
   "cell_type": "code",
   "execution_count": 15,
   "id": "9d069fd0-b96c-4159-95e6-c1c19963d35d",
   "metadata": {},
   "outputs": [
    {
     "data": {
      "text/plain": [
       "[Document(metadata={'doc_id': '631be762-2f59-49e2-a8f1-03975d3aa39b', 'source': 'https://numpy.org/doc/stable/reference/arrays.ndarray.html', 'title': 'The N-dimensional array (ndarray) — NumPy v2.0 Manual'}, page_content='>>> y = x[:,1]\\n>>> y\\narray([2, 5], dtype=int32)\\n>>> y[0] = 9 # this also changes the corresponding element in x\\n>>> y\\narray([9, 5], dtype=int32)\\n>>> x\\narray([[1, 9, 3],\\n       [4, 5, 6]], dtype=int32)\\n\\n\\nConstructing arrays#\\n\\nNew arrays can be constructed using the routines detailed inArray creation routines, and also by using the low-levelndarrayconstructor:\\n\\nndarray(shape[,\\xa0dtype,\\xa0buffer,\\xa0offset,\\xa0...])\\n\\nAn array object represents a multidimensional, homogeneous array of fixed-size items.'),\n",
       " Document(metadata={'doc_id': '9c040906-0485-4022-83fd-0be4b34b81ff', 'source': 'https://numpy.org/doc/stable/user/absolute_beginners.html', 'title': 'NumPy: the absolute basics for beginners — NumPy v2.0 Manual'}, page_content='How to create a basic array#\\n\\nThis section coversnp.zeros(),np.ones(),np.empty(),np.arange(),np.linspace()\\nnp.zeros()np.ones()np.empty()np.arange()np.linspace()\\nBesides creating an array from a sequence of elements, you can easily create an\\narray filled with0’s:\\n\\n>>> np.zeros(2)\\narray([0., 0.])\\n\\n\\nOr an array filled with1’s:\\n\\n>>> np.ones(2)\\narray([1., 1.])'),\n",
       " Document(metadata={'doc_id': 'a6b88cb5-27cc-4340-86a9-20def9a03fdc', 'source': 'https://numpy.org/doc/stable/reference/generated/numpy.ma.MaskedArray.count.html', 'title': 'numpy.ma.MaskedArray.count — NumPy v2.0 Manual'}, page_content='When theaxiskeyword is specified an array of appropriate size is\\nreturned.\\n\\n>>> a.count(axis=0)\\narray([1, 1, 1])\\n>>> a.count(axis=1)\\narray([3, 0])'),\n",
       " Document(metadata={'doc_id': '4f733fa7-17aa-4d14-b888-402a0cc3c4b0', 'source': 'https://numpy.org/doc/stable/reference/generated/numpy.ma.masked_array.count.html', 'title': 'numpy.ma.masked_array.count — NumPy v2.0 Manual'}, page_content='When theaxiskeyword is specified an array of appropriate size is\\nreturned.\\n\\n>>> a.count(axis=0)\\narray([1, 1, 1])\\n>>> a.count(axis=1)\\narray([3, 0])')]"
      ]
     },
     "execution_count": 15,
     "metadata": {},
     "output_type": "execute_result"
    }
   ],
   "source": [
    "loaded_vectorstore.similarity_search(\"how can i create a 2d array?\")"
   ]
  },
  {
   "cell_type": "code",
   "execution_count": 16,
   "id": "772c7184-ec46-4790-b67d-f15927767d96",
   "metadata": {},
   "outputs": [
    {
     "data": {
      "text/plain": [
       "[Document(metadata={'source': 'https://numpy.org/doc/stable/reference/arrays.ndarray.html', 'title': 'The N-dimensional array (ndarray) — NumPy v2.0 Manual'}, page_content=\"The N-dimensional array (ndarray)#\\nndarray\\nAnndarrayis a (usually fixed-size) multidimensional\\ncontainer of items of the same type and size. The number of dimensions\\nand items in an array is defined by itsshape,\\nwhich is atupleofNnon-negative integers that specify the\\nsizes of each dimension. The type of items in the array is specified by\\na separatedata-type object (dtype), one of which\\nis associated with each ndarray.\\nshapetuple\\nAs with other container objects in Python, the contents of anndarraycan be accessed and modified byindexing or\\nslicingthe array (using, for example,Nintegers),\\nand via the methods and attributes of thendarray.\\n\\nDifferentndarrayscan share the same data, so that\\nchanges made in onendarraymay be visible in another. That\\nis, an ndarray can be a“view”to another ndarray, and the data it\\nis referring to is taken care of by the“base”ndarray. ndarrays can\\nalso be views to memory owned by Pythonstringsor\\nobjects implementing thememoryvieworarrayinterfaces.\\nndarraysstringsmemoryview\\nExample\\n\\nA 2-dimensional array of size 2 x 3, composed of 4-byte integer\\nelements:\\n\\n>>> x = np.array([[1, 2, 3], [4, 5, 6]], np.int32)\\n>>> type(x)\\n<class 'numpy.ndarray'>\\n>>> x.shape\\n(2, 3)\\n>>> x.dtype\\ndtype('int32')\\n\\n\\nThe array can be indexed using Python container-like syntax:\\n\\n>>> # The element of x in the *second* row, *third* column, namely, 6.\\n>>> x[1, 2]\\n6\\n\\n\\nFor exampleslicingcan produce views of\\nthe array:\\n\\n>>> y = x[:,1]\\n>>> y\\narray([2, 5], dtype=int32)\\n>>> y[0] = 9 # this also changes the corresponding element in x\\n>>> y\\narray([9, 5], dtype=int32)\\n>>> x\\narray([[1, 9, 3],\\n       [4, 5, 6]], dtype=int32)\\n\\n\\nConstructing arrays#\\n\\nNew arrays can be constructed using the routines detailed inArray creation routines, and also by using the low-levelndarrayconstructor:\\n\\nndarray(shape[,\\xa0dtype,\\xa0buffer,\\xa0offset,\\xa0...])\\n\\nAn array object represents a multidimensional, homogeneous array of fixed-size items.\\n\\nIndexing arrays#\"),\n",
       " Document(metadata={'source': 'https://numpy.org/doc/stable/user/absolute_beginners.html', 'title': 'NumPy: the absolute basics for beginners — NumPy v2.0 Manual'}, page_content='You might hear of a 0-D (zero-dimensional) array referred to as a “scalar”,\\na 1-D (one-dimensional) array as a “vector”, a 2-D (two-dimensional) array\\nas a “matrix”, or an N-D (N-dimensional, where “N” is typically an integer\\ngreater than 2) array as a “tensor”. For clarity, it is best to avoid the\\nmathematical terms when referring to an array because the mathematical\\nobjects with these names behave differently than arrays (e.g. “matrix”\\nmultiplication is fundamentally different from “array” multiplication), and\\nthere are other objects in the scientific Python ecosystem that have these\\nnames (e.g. the fundamental data structure of PyTorch is the “tensor”).\\n\\nArray attributes#\\n\\nThis section covers thendim,shape,size,anddtypeattributes of an array.\\nndimshapesizedtype\\nThe number of dimensions of an array is contained in thendimattribute.\\n\\n>>> a.ndim\\n2\\n\\n\\nThe shape of an array is a tuple of non-negative integers that specify the\\nnumber of elements along each dimension.\\n\\n>>> a.shape\\n(3, 4)\\n>>> len(a.shape) == a.ndim\\nTrue\\n\\n\\nThe fixed, total number of elements in array is contained in thesizeattribute.\\n\\n>>> a.size\\n12\\n>>> import math\\n>>> a.size == math.prod(a.shape)\\nTrue\\n\\n\\nArrays are typically “homogeneous”, meaning that they contain elements of\\nonly one “data type”. The data type is recorded in thedtypeattribute.\\n\\n>>> a.dtype\\ndtype(\\'int64\\')  # \"int\" for integer, \"64\" for 64-bit\\n\\n\\nRead more about array attributes hereand learn aboutarray objects here.\\n\\nHow to create a basic array#\\n\\nThis section coversnp.zeros(),np.ones(),np.empty(),np.arange(),np.linspace()\\nnp.zeros()np.ones()np.empty()np.arange()np.linspace()\\nBesides creating an array from a sequence of elements, you can easily create an\\narray filled with0’s:\\n\\n>>> np.zeros(2)\\narray([0., 0.])\\n\\n\\nOr an array filled with1’s:\\n\\n>>> np.ones(2)\\narray([1., 1.])'),\n",
       " Document(metadata={'source': 'https://numpy.org/doc/stable/reference/generated/numpy.ma.MaskedArray.count.html', 'title': 'numpy.ma.MaskedArray.count — NumPy v2.0 Manual'}, page_content='numpy.ma.MaskedArray.count#\\n\\nmethod\\n\\nma.MaskedArray.count(axis=None,keepdims=<novalue>)[source]#\\n\\nCount the non-masked elements of the array along the given axis.\\n\\nParameters:\\n\\naxisNone or int or tuple of ints, optional\\n\\nAxis or axes along which the count is performed.\\nThe default, None, performs the count over all\\nthe dimensions of the input array.axismay be negative, in\\nwhich case it counts from the last to the first axis.\\n\\nNew in version 1.10.0.\\n\\nIf this is a tuple of ints, the count is performed on multiple\\naxes, instead of a single axis or all the axes as before.\\n\\nkeepdimsbool, optional\\n\\nIf this is set to True, the axes which are reduced are left\\nin the result as dimensions with size one. With this option,\\nthe result will broadcast correctly against the array.\\n\\nReturns:\\n\\nresultndarray or scalar\\n\\nAn array with the same shape as the input array, with the specified\\naxis removed. If the array is a 0-d array, or ifaxisis None, a\\nscalar is returned.\\n\\nExamples\\n\\n>>> import numpy.ma as ma\\n>>> a = ma.arange(6).reshape((2, 3))\\n>>> a[1, :] = ma.masked\\n>>> a\\nmasked_array(\\n  data=[[0, 1, 2],\\n        [--, --, --]],\\n  mask=[[False, False, False],\\n        [ True,  True,  True]],\\n  fill_value=999999)\\n>>> a.count()\\n3\\n\\n\\nWhen theaxiskeyword is specified an array of appropriate size is\\nreturned.\\n\\n>>> a.count(axis=0)\\narray([1, 1, 1])\\n>>> a.count(axis=1)\\narray([3, 0])'),\n",
       " Document(metadata={'source': 'https://numpy.org/doc/stable/reference/generated/numpy.ma.masked_array.count.html', 'title': 'numpy.ma.masked_array.count — NumPy v2.0 Manual'}, page_content='numpy.ma.masked_array.count#\\n\\nmethod\\n\\nma.masked_array.count(axis=None,keepdims=<novalue>)[source]#\\n\\nCount the non-masked elements of the array along the given axis.\\n\\nParameters:\\n\\naxisNone or int or tuple of ints, optional\\n\\nAxis or axes along which the count is performed.\\nThe default, None, performs the count over all\\nthe dimensions of the input array.axismay be negative, in\\nwhich case it counts from the last to the first axis.\\n\\nNew in version 1.10.0.\\n\\nIf this is a tuple of ints, the count is performed on multiple\\naxes, instead of a single axis or all the axes as before.\\n\\nkeepdimsbool, optional\\n\\nIf this is set to True, the axes which are reduced are left\\nin the result as dimensions with size one. With this option,\\nthe result will broadcast correctly against the array.\\n\\nReturns:\\n\\nresultndarray or scalar\\n\\nAn array with the same shape as the input array, with the specified\\naxis removed. If the array is a 0-d array, or ifaxisis None, a\\nscalar is returned.\\n\\nExamples\\n\\n>>> import numpy.ma as ma\\n>>> a = ma.arange(6).reshape((2, 3))\\n>>> a[1, :] = ma.masked\\n>>> a\\nmasked_array(\\n  data=[[0, 1, 2],\\n        [--, --, --]],\\n  mask=[[False, False, False],\\n        [ True,  True,  True]],\\n  fill_value=999999)\\n>>> a.count()\\n3\\n\\n\\nWhen theaxiskeyword is specified an array of appropriate size is\\nreturned.\\n\\n>>> a.count(axis=0)\\narray([1, 1, 1])\\n>>> a.count(axis=1)\\narray([3, 0])')]"
      ]
     },
     "execution_count": 16,
     "metadata": {},
     "output_type": "execute_result"
    }
   ],
   "source": [
    "rt=loaded_retriever.invoke(\"how can i create a 2d array?\")\n",
    "rt"
   ]
  },
  {
   "cell_type": "code",
   "execution_count": 17,
   "id": "1ea1bd46",
   "metadata": {},
   "outputs": [
    {
     "data": {
      "text/plain": [
       "'https://numpy.org/doc/stable/reference/arrays.ndarray.html'"
      ]
     },
     "execution_count": 17,
     "metadata": {},
     "output_type": "execute_result"
    }
   ],
   "source": [
    "rt[0].metadata['source']"
   ]
  },
  {
   "cell_type": "code",
   "execution_count": 18,
   "id": "452f4a55",
   "metadata": {},
   "outputs": [
    {
     "name": "stdout",
     "output_type": "stream",
     "text": [
      "https://numpy.org/doc/stable/reference/arrays.ndarray.html\n",
      "https://numpy.org/doc/stable/user/absolute_beginners.html\n",
      "https://numpy.org/doc/stable/reference/generated/numpy.ma.MaskedArray.count.html\n",
      "https://numpy.org/doc/stable/reference/generated/numpy.ma.masked_array.count.html\n"
     ]
    }
   ],
   "source": [
    "for i in rt:\n",
    "    print(i.metadata['source'])"
   ]
  },
  {
   "cell_type": "code",
   "execution_count": 19,
   "id": "3314d1b1-2d33-4b99-8d22-32d8e6cb4116",
   "metadata": {},
   "outputs": [],
   "source": [
    "system_prompt = (\n",
    "    \"You are an assistant for question-answering tasks. \"\n",
    "    \"Use the following pieces of retrieved context to answer \"\n",
    "    \"the question. If you don't know the answer, say that you \"\n",
    "    \"don't know. Use three sentences maximum and keep the \"\n",
    "    \"answer concise.\"\n",
    "    \"\\n\\n\"\n",
    "    \"{context}\"\n",
    ")\n",
    "\n",
    "prompt = ChatPromptTemplate.from_messages(\n",
    "    [\n",
    "        (\"system\", system_prompt),\n",
    "        (\"human\", \"{input}\"),\n",
    "    ]\n",
    ")\n",
    "\n",
    "question_answer_chain = create_stuff_documents_chain(llm, prompt)\n",
    "rag_chain = create_retrieval_chain(loaded_retriever, question_answer_chain)"
   ]
  },
  {
   "cell_type": "code",
   "execution_count": 20,
   "id": "18845a2d-3f26-4334-9862-ba22ae368e80",
   "metadata": {},
   "outputs": [
    {
     "name": "stderr",
     "output_type": "stream",
     "text": [
      "huggingface/tokenizers: The current process just got forked, after parallelism has already been used. Disabling parallelism to avoid deadlocks...\n",
      "To disable this warning, you can either:\n",
      "\t- Avoid using `tokenizers` before the fork if possible\n",
      "\t- Explicitly set the environment variable TOKENIZERS_PARALLELISM=(true | false)\n"
     ]
    }
   ],
   "source": [
    "response = rag_chain.invoke({\"input\": \"how can i create a 2d array? Give detailed instructions\"})"
   ]
  },
  {
   "cell_type": "code",
   "execution_count": 21,
   "id": "ae462501-1377-4477-a869-0b67915272b2",
   "metadata": {},
   "outputs": [
    {
     "name": "stdout",
     "output_type": "stream",
     "text": [
      "Answer: To create a 2D array in NumPy, you can use the `np.ones()`, `np.zeros()`, or `np.random()` functions, and pass a tuple describing the dimensions of the matrix as an argument.\n",
      "\n",
      "Here are the detailed instructions:\n",
      "\n",
      "1. Import the NumPy library: `import numpy as np`\n",
      "2. Choose the function you want to use:\n",
      "\t* `np.ones()` to create an array filled with ones\n",
      "\t* `np.zeros()` to create an array filled with zeros\n",
      "\t* `np.random()` to create an array filled with random numbers\n",
      "3. Pass a tuple describing the dimensions of the matrix as an argument. For example:\n",
      "\t* To create a 2x3 matrix, use `(2, 3)`\n",
      "\t* To create a 3x4 matrix, use `(3, 4)`\n",
      "4. Call the function with the tuple as an argument. For example:\n",
      "\t* `np.ones((2, 3))` to create a 2x3 matrix filled with ones\n",
      "\t* `np.zeros((3, 4))` to create a 3x4 matrix filled with zeros\n",
      "\t* `np.random((3, 4))` to create a 3x4 matrix filled with random numbers\n",
      "\n",
      "Here are some examples:\n",
      "\n",
      "* `np.ones((2, 3))` returns `array([[1., 1., 1.], [1., 1., 1.]])`\n",
      "* `np.zeros((3, 4))` returns `array([[0., 0., 0., 0.], [0., 0., 0., 0.], [0., 0., 0., 0.]])`\n",
      "* `np.random((3, 4))` returns a 3x4 matrix filled with random numbers, for example: `array([[0.12345678, 0.23456789, 0.3456789 , 0.45678901], [0.56789012, 0.67890123, 0.78901234, 0.89012345], [0.90123456, 0.01234567, 0.23456789, 0.3456789 ]])`\n"
     ]
    }
   ],
   "source": [
    "print(f\"Answer: {response['answer']}\")"
   ]
  },
  {
   "cell_type": "markdown",
   "id": "7065c6d2-ad23-4def-b1af-4aefd025f5b5",
   "metadata": {},
   "source": [
    "## Adding chat history"
   ]
  },
  {
   "cell_type": "code",
   "execution_count": 22,
   "id": "b2676219-de47-44a6-bcf8-17215694fb65",
   "metadata": {},
   "outputs": [],
   "source": [
    "from langchain.chains import create_history_aware_retriever\n",
    "from langchain_core.prompts import MessagesPlaceholder\n",
    "from langchain.chains import create_retrieval_chain\n",
    "from langchain.chains.combine_documents import create_stuff_documents_chain\n",
    "from langchain_core.messages import AIMessage, HumanMessage\n",
    "from langchain_community.chat_message_histories import ChatMessageHistory\n",
    "from langchain_core.chat_history import BaseChatMessageHistory\n",
    "from langchain_core.runnables.history import RunnableWithMessageHistory"
   ]
  },
  {
   "cell_type": "code",
   "execution_count": 23,
   "id": "d7efadbe-10e7-4845-bf5c-102db374ba9c",
   "metadata": {},
   "outputs": [],
   "source": [
    "### Contextualize question ###\n",
    "contextualize_q_system_prompt = (\n",
    "    \"Given a chat history and the latest user question \"\n",
    "    \"which might reference context in the chat history, \"\n",
    "    \"formulate a standalone question which can be understood \"\n",
    "    \"without the chat history. Do NOT answer the question, \"\n",
    "    \"just reformulate it if needed and otherwise return it as is.\"\n",
    ")\n",
    "contextualize_q_prompt = ChatPromptTemplate.from_messages(\n",
    "    [\n",
    "        (\"system\", contextualize_q_system_prompt),\n",
    "        MessagesPlaceholder(\"chat_history\"),\n",
    "        (\"human\", \"{input}\"),\n",
    "    ]\n",
    ")\n",
    "history_aware_retriever = create_history_aware_retriever(\n",
    "    llm, loaded_retriever, contextualize_q_prompt\n",
    ")"
   ]
  },
  {
   "cell_type": "code",
   "execution_count": 24,
   "id": "3383e47e-ee68-4245-87c6-6c82ff6a7fea",
   "metadata": {},
   "outputs": [],
   "source": [
    "### Answer question ###\n",
    "system_prompt = (\n",
    "    \"You are an assistant for question-answering tasks. \"\n",
    "    \"Use the following pieces of retrieved context to answer \"\n",
    "    \"the question. If you don't know the answer, say that you \"\n",
    "    \"don't know. Use three sentences maximum and keep the \"\n",
    "    \"answer concise.\"\n",
    "    \"\\n\\n\"\n",
    "    \"{context}\"\n",
    ")\n",
    "qa_prompt = ChatPromptTemplate.from_messages(\n",
    "    [\n",
    "        (\"system\", system_prompt),\n",
    "        MessagesPlaceholder(\"chat_history\"),\n",
    "        (\"human\", \"{input}\"),\n",
    "    ]\n",
    ")\n",
    "question_answer_chain = create_stuff_documents_chain(llm, qa_prompt)\n",
    "\n",
    "rag_chain = create_retrieval_chain(history_aware_retriever, question_answer_chain)"
   ]
  },
  {
   "cell_type": "code",
   "execution_count": 25,
   "id": "0834fdbf-276a-4763-a957-da2997e305aa",
   "metadata": {},
   "outputs": [],
   "source": [
    "### Statefully manage chat history ###\n",
    "store = {}\n",
    "\n",
    "\n",
    "def get_session_history(session_id: str) -> BaseChatMessageHistory:\n",
    "    if session_id not in store:\n",
    "        store[session_id] = ChatMessageHistory()\n",
    "    return store[session_id]\n",
    "\n",
    "\n",
    "conversational_rag_chain = RunnableWithMessageHistory(\n",
    "    rag_chain,\n",
    "    get_session_history,\n",
    "    input_messages_key=\"input\",\n",
    "    history_messages_key=\"chat_history\",\n",
    "    output_messages_key=\"answer\",\n",
    ")"
   ]
  },
  {
   "cell_type": "code",
   "execution_count": 26,
   "id": "1d9b02bc-a9a4-4eee-b8b3-900b354f55df",
   "metadata": {},
   "outputs": [
    {
     "data": {
      "text/plain": [
       "\"I don't know. The provided context does not mention task decomposition.\""
      ]
     },
     "execution_count": 26,
     "metadata": {},
     "output_type": "execute_result"
    }
   ],
   "source": [
    "conversational_rag_chain.invoke(\n",
    "    {\"input\": \"What is Task Decomposition?\"},\n",
    "    config={\n",
    "        \"configurable\": {\"session_id\": \"abc123\"}\n",
    "    },  # constructs a key \"abc123\" in `store`.\n",
    ")[\"answer\"]\n"
   ]
  },
  {
   "cell_type": "code",
   "execution_count": 27,
   "id": "ca7ac7f8-5695-4886-9f99-1301fa29bcad",
   "metadata": {},
   "outputs": [
    {
     "data": {
      "text/plain": [
       "{'abc123': InMemoryChatMessageHistory(messages=[HumanMessage(content='What is Task Decomposition?'), AIMessage(content=\"I don't know. The provided context does not mention task decomposition.\")])}"
      ]
     },
     "execution_count": 27,
     "metadata": {},
     "output_type": "execute_result"
    }
   ],
   "source": [
    "store"
   ]
  },
  {
   "cell_type": "code",
   "execution_count": 28,
   "id": "79d11816-fa38-4da1-b364-299303a64016",
   "metadata": {},
   "outputs": [
    {
     "data": {
      "text/plain": [
       "'You can create a 2D array using the `np.array()` function or by using the `np.zeros()`, `np.ones()`, or `np.empty()` functions with a tuple specifying the shape of the array.'"
      ]
     },
     "execution_count": 28,
     "metadata": {},
     "output_type": "execute_result"
    }
   ],
   "source": [
    "conversational_rag_chain.invoke(\n",
    "    {\"input\": \"how can i create a 2d array?\"},\n",
    "    config={\"configurable\": {\"session_id\": \"abc123\"}},\n",
    ")[\"answer\"]"
   ]
  },
  {
   "cell_type": "code",
   "execution_count": 29,
   "id": "df246c58-5e9c-4f01-889b-b83844c623b9",
   "metadata": {},
   "outputs": [
    {
     "data": {
      "text/plain": [
       "{'abc123': InMemoryChatMessageHistory(messages=[HumanMessage(content='What is Task Decomposition?'), AIMessage(content=\"I don't know. The provided context does not mention task decomposition.\"), HumanMessage(content='how can i create a 2d array?'), AIMessage(content='You can create a 2D array using the `np.array()` function or by using the `np.zeros()`, `np.ones()`, or `np.empty()` functions with a tuple specifying the shape of the array.')])}"
      ]
     },
     "execution_count": 29,
     "metadata": {},
     "output_type": "execute_result"
    }
   ],
   "source": [
    "store"
   ]
  },
  {
   "cell_type": "code",
   "execution_count": 30,
   "id": "cf314b68-bdca-4b68-99f3-495d92cc84e6",
   "metadata": {},
   "outputs": [
    {
     "data": {
      "text/plain": [
       "'`np.arange(4)` creates an array `[0, 1, 2, 3]`. The `reshape(2,2)` method then changes the shape of this array to a 2x2 matrix. The elements of the original array are rearranged to fill the new shape. So, `a` becomes `[[0, 1], [2, 3]]`.'"
      ]
     },
     "execution_count": 30,
     "metadata": {},
     "output_type": "execute_result"
    }
   ],
   "source": [
    "conversational_rag_chain.invoke(\n",
    "    {\"input\": \"can you elaborate more on a = np.arange(4).reshape(2,2)?\"},\n",
    "    config={\"configurable\": {\"session_id\": \"abc123\"}},\n",
    ")[\"answer\"]"
   ]
  },
  {
   "cell_type": "code",
   "execution_count": 31,
   "id": "d7b4acff-da5b-4004-8350-6fe915bbe7c8",
   "metadata": {},
   "outputs": [
    {
     "data": {
      "text/plain": [
       "{'abc123': InMemoryChatMessageHistory(messages=[HumanMessage(content='What is Task Decomposition?'), AIMessage(content=\"I don't know. The provided context does not mention task decomposition.\"), HumanMessage(content='how can i create a 2d array?'), AIMessage(content='You can create a 2D array using the `np.array()` function or by using the `np.zeros()`, `np.ones()`, or `np.empty()` functions with a tuple specifying the shape of the array.'), HumanMessage(content='can you elaborate more on a = np.arange(4).reshape(2,2)?'), AIMessage(content='`np.arange(4)` creates an array `[0, 1, 2, 3]`. The `reshape(2,2)` method then changes the shape of this array to a 2x2 matrix. The elements of the original array are rearranged to fill the new shape. So, `a` becomes `[[0, 1], [2, 3]]`.')])}"
      ]
     },
     "execution_count": 31,
     "metadata": {},
     "output_type": "execute_result"
    }
   ],
   "source": [
    "store"
   ]
  },
  {
   "cell_type": "code",
   "execution_count": 32,
   "id": "3222a4e9-7e15-4575-a93e-ab04198d85ef",
   "metadata": {},
   "outputs": [
    {
     "data": {
      "text/plain": [
       "'Here are a few more examples of creating 2D arrays using `np.arange()` and `reshape()`:\\n\\n```python\\nimport numpy as np\\n\\n# Create a 1D array of numbers from 0 to 8\\na = np.arange(9)\\nprint(a)  # [0, 1, 2, 3, 4, 5, 6, 7, 8]\\n\\n# Reshape it into a 3x3 array\\na = a.reshape(3, 3)\\nprint(a)  # [[0, 1, 2],\\n          #  [3, 4, 5],\\n          #  [6, 7, 8]]\\n\\n# Create a 1D array of numbers from 0 to 11\\na = np.arange(12)\\nprint(a)  # [0, 1, 2, 3, 4, 5, 6, 7, 8, 9, 10, 11]\\n\\n# Reshape it into a 4x3 array\\na = a.reshape(4, 3)\\nprint(a)  # [[0, 1, 2],\\n          #  [3, 4, 5],\\n          #  [6, 7, 8],\\n          #  [9, 10, 11]]\\n```\\n\\nThis can be useful when working with data that has a natural 2D structure, such as matrices, grids, or images. The `reshape()` method allows you to easily convert between different 2D shapes, which can make your code more readable and efficient.'"
      ]
     },
     "execution_count": 32,
     "metadata": {},
     "output_type": "execute_result"
    }
   ],
   "source": [
    "conversational_rag_chain.invoke(\n",
    "    {\"input\": \"can you give some more examples and use cases?\"},\n",
    "    config={\"configurable\": {\"session_id\": \"abc123\"}},\n",
    ")[\"answer\"]"
   ]
  },
  {
   "cell_type": "code",
   "execution_count": 45,
   "id": "e0ad2164",
   "metadata": {},
   "outputs": [
    {
     "data": {
      "text/plain": [
       "'Here are a few more examples of creating 2D arrays using `np.arange()` and `reshape()`:\\n\\n```python\\nimport numpy as np\\n\\n# Create a 1D array of numbers from 0 to 8\\na = np.arange(9)\\nprint(a)  # [0, 1, 2, 3, 4, 5, 6, 7, 8]\\n\\n# Reshape it into a 3x3 array\\na = a.reshape(3, 3)\\nprint(a)  # [[0, 1, 2],\\n          #  [3, 4, 5],\\n          #  [6, 7, 8]]\\n\\n# Create a 1D array of numbers from 0 to 11\\na = np.arange(12)\\nprint(a)  # [0, 1, 2, 3, 4, 5, 6, 7, 8, 9, 10, 11]\\n\\n# Reshape it into a 4x3 array\\na = a.reshape(4, 3)\\nprint(a)  # [[0, 1, 2],\\n          #  [3, 4, 5],\\n          #  [6, 7, 8],\\n          #  [9, 10, 11]]\\n```\\n\\nThis can be useful when working with data that has a natural 2D structure, such as matrices, grids, or images. The `reshape()` method allows you to easily convert between different 2D shapes, which can make your code more readable and efficient.'"
      ]
     },
     "execution_count": 45,
     "metadata": {},
     "output_type": "execute_result"
    }
   ],
   "source": [
    "store['abc123'].messages[-1].content"
   ]
  },
  {
   "cell_type": "code",
   "execution_count": 33,
   "id": "02ec4176-ab93-4e9b-930d-016f802f4afd",
   "metadata": {},
   "outputs": [
    {
     "ename": "KeyboardInterrupt",
     "evalue": "",
     "output_type": "error",
     "traceback": [
      "\u001b[0;31m---------------------------------------------------------------------------\u001b[0m",
      "\u001b[0;31mKeyboardInterrupt\u001b[0m                         Traceback (most recent call last)",
      "File \u001b[0;32m~/miniconda3/envs/capstone_2/lib/python3.9/site-packages/langchain_core/runnables/config.py:561\u001b[0m, in \u001b[0;36mget_executor_for_config\u001b[0;34m(config)\u001b[0m\n\u001b[1;32m    558\u001b[0m \u001b[39mwith\u001b[39;00m ContextThreadPoolExecutor(\n\u001b[1;32m    559\u001b[0m     max_workers\u001b[39m=\u001b[39mconfig\u001b[39m.\u001b[39mget(\u001b[39m\"\u001b[39m\u001b[39mmax_concurrency\u001b[39m\u001b[39m\"\u001b[39m)\n\u001b[1;32m    560\u001b[0m ) \u001b[39mas\u001b[39;00m executor:\n\u001b[0;32m--> 561\u001b[0m     \u001b[39myield\u001b[39;00m executor\n",
      "File \u001b[0;32m~/miniconda3/envs/capstone_2/lib/python3.9/site-packages/langchain_core/runnables/base.py:3562\u001b[0m, in \u001b[0;36mRunnableParallel.invoke\u001b[0;34m(self, input, config)\u001b[0m\n\u001b[1;32m   3550\u001b[0m         futures \u001b[39m=\u001b[39m [\n\u001b[1;32m   3551\u001b[0m             executor\u001b[39m.\u001b[39msubmit(\n\u001b[1;32m   3552\u001b[0m                 step\u001b[39m.\u001b[39minvoke,\n\u001b[0;32m   (...)\u001b[0m\n\u001b[1;32m   3560\u001b[0m             \u001b[39mfor\u001b[39;00m key, step \u001b[39min\u001b[39;00m steps\u001b[39m.\u001b[39mitems()\n\u001b[1;32m   3561\u001b[0m         ]\n\u001b[0;32m-> 3562\u001b[0m         output \u001b[39m=\u001b[39m {key: future\u001b[39m.\u001b[39mresult() \u001b[39mfor\u001b[39;00m key, future \u001b[39min\u001b[39;00m \u001b[39mzip\u001b[39m(steps, futures)}\n\u001b[1;32m   3563\u001b[0m \u001b[39m# finish the root run\u001b[39;00m\n",
      "File \u001b[0;32m~/miniconda3/envs/capstone_2/lib/python3.9/site-packages/langchain_core/runnables/base.py:3562\u001b[0m, in \u001b[0;36m<dictcomp>\u001b[0;34m(.0)\u001b[0m\n\u001b[1;32m   3550\u001b[0m         futures \u001b[39m=\u001b[39m [\n\u001b[1;32m   3551\u001b[0m             executor\u001b[39m.\u001b[39msubmit(\n\u001b[1;32m   3552\u001b[0m                 step\u001b[39m.\u001b[39minvoke,\n\u001b[0;32m   (...)\u001b[0m\n\u001b[1;32m   3560\u001b[0m             \u001b[39mfor\u001b[39;00m key, step \u001b[39min\u001b[39;00m steps\u001b[39m.\u001b[39mitems()\n\u001b[1;32m   3561\u001b[0m         ]\n\u001b[0;32m-> 3562\u001b[0m         output \u001b[39m=\u001b[39m {key: future\u001b[39m.\u001b[39;49mresult() \u001b[39mfor\u001b[39;00m key, future \u001b[39min\u001b[39;00m \u001b[39mzip\u001b[39m(steps, futures)}\n\u001b[1;32m   3563\u001b[0m \u001b[39m# finish the root run\u001b[39;00m\n",
      "File \u001b[0;32m~/miniconda3/envs/capstone_2/lib/python3.9/concurrent/futures/_base.py:441\u001b[0m, in \u001b[0;36mFuture.result\u001b[0;34m(self, timeout)\u001b[0m\n\u001b[1;32m    439\u001b[0m     \u001b[39mreturn\u001b[39;00m \u001b[39mself\u001b[39m\u001b[39m.\u001b[39m__get_result()\n\u001b[0;32m--> 441\u001b[0m \u001b[39mself\u001b[39;49m\u001b[39m.\u001b[39;49m_condition\u001b[39m.\u001b[39;49mwait(timeout)\n\u001b[1;32m    443\u001b[0m \u001b[39mif\u001b[39;00m \u001b[39mself\u001b[39m\u001b[39m.\u001b[39m_state \u001b[39min\u001b[39;00m [CANCELLED, CANCELLED_AND_NOTIFIED]:\n",
      "File \u001b[0;32m~/miniconda3/envs/capstone_2/lib/python3.9/threading.py:312\u001b[0m, in \u001b[0;36mCondition.wait\u001b[0;34m(self, timeout)\u001b[0m\n\u001b[1;32m    311\u001b[0m \u001b[39mif\u001b[39;00m timeout \u001b[39mis\u001b[39;00m \u001b[39mNone\u001b[39;00m:\n\u001b[0;32m--> 312\u001b[0m     waiter\u001b[39m.\u001b[39;49macquire()\n\u001b[1;32m    313\u001b[0m     gotit \u001b[39m=\u001b[39m \u001b[39mTrue\u001b[39;00m\n",
      "\u001b[0;31mKeyboardInterrupt\u001b[0m: ",
      "\nDuring handling of the above exception, another exception occurred:\n",
      "\u001b[0;31mKeyboardInterrupt\u001b[0m                         Traceback (most recent call last)",
      "Cell \u001b[0;32mIn[33], line 1\u001b[0m\n\u001b[0;32m----> 1\u001b[0m \u001b[39mprint\u001b[39m(conversational_rag_chain\u001b[39m.\u001b[39;49minvoke(\n\u001b[1;32m      2\u001b[0m     {\u001b[39m\"\u001b[39;49m\u001b[39minput\u001b[39;49m\u001b[39m\"\u001b[39;49m: \u001b[39m\"\u001b[39;49m\u001b[39mcan you give some more examples and use cases?\u001b[39;49m\u001b[39m\"\u001b[39;49m},\n\u001b[1;32m      3\u001b[0m     config\u001b[39m=\u001b[39;49m{\u001b[39m\"\u001b[39;49m\u001b[39mconfigurable\u001b[39;49m\u001b[39m\"\u001b[39;49m: {\u001b[39m\"\u001b[39;49m\u001b[39msession_id\u001b[39;49m\u001b[39m\"\u001b[39;49m: \u001b[39m\"\u001b[39;49m\u001b[39mabc123\u001b[39;49m\u001b[39m\"\u001b[39;49m}},\n\u001b[1;32m      4\u001b[0m )[\u001b[39m\"\u001b[39m\u001b[39manswer\u001b[39m\u001b[39m\"\u001b[39m])\n",
      "File \u001b[0;32m~/miniconda3/envs/capstone_2/lib/python3.9/site-packages/langchain_core/runnables/base.py:5060\u001b[0m, in \u001b[0;36mRunnableBindingBase.invoke\u001b[0;34m(self, input, config, **kwargs)\u001b[0m\n\u001b[1;32m   5054\u001b[0m \u001b[39mdef\u001b[39;00m \u001b[39minvoke\u001b[39m(\n\u001b[1;32m   5055\u001b[0m     \u001b[39mself\u001b[39m,\n\u001b[1;32m   5056\u001b[0m     \u001b[39minput\u001b[39m: Input,\n\u001b[1;32m   5057\u001b[0m     config: Optional[RunnableConfig] \u001b[39m=\u001b[39m \u001b[39mNone\u001b[39;00m,\n\u001b[1;32m   5058\u001b[0m     \u001b[39m*\u001b[39m\u001b[39m*\u001b[39mkwargs: Optional[Any],\n\u001b[1;32m   5059\u001b[0m ) \u001b[39m-\u001b[39m\u001b[39m>\u001b[39m Output:\n\u001b[0;32m-> 5060\u001b[0m     \u001b[39mreturn\u001b[39;00m \u001b[39mself\u001b[39;49m\u001b[39m.\u001b[39;49mbound\u001b[39m.\u001b[39;49minvoke(\n\u001b[1;32m   5061\u001b[0m         \u001b[39minput\u001b[39;49m,\n\u001b[1;32m   5062\u001b[0m         \u001b[39mself\u001b[39;49m\u001b[39m.\u001b[39;49m_merge_configs(config),\n\u001b[1;32m   5063\u001b[0m         \u001b[39m*\u001b[39;49m\u001b[39m*\u001b[39;49m{\u001b[39m*\u001b[39;49m\u001b[39m*\u001b[39;49m\u001b[39mself\u001b[39;49m\u001b[39m.\u001b[39;49mkwargs, \u001b[39m*\u001b[39;49m\u001b[39m*\u001b[39;49mkwargs},\n\u001b[1;32m   5064\u001b[0m     )\n",
      "File \u001b[0;32m~/miniconda3/envs/capstone_2/lib/python3.9/site-packages/langchain_core/runnables/base.py:5060\u001b[0m, in \u001b[0;36mRunnableBindingBase.invoke\u001b[0;34m(self, input, config, **kwargs)\u001b[0m\n\u001b[1;32m   5054\u001b[0m \u001b[39mdef\u001b[39;00m \u001b[39minvoke\u001b[39m(\n\u001b[1;32m   5055\u001b[0m     \u001b[39mself\u001b[39m,\n\u001b[1;32m   5056\u001b[0m     \u001b[39minput\u001b[39m: Input,\n\u001b[1;32m   5057\u001b[0m     config: Optional[RunnableConfig] \u001b[39m=\u001b[39m \u001b[39mNone\u001b[39;00m,\n\u001b[1;32m   5058\u001b[0m     \u001b[39m*\u001b[39m\u001b[39m*\u001b[39mkwargs: Optional[Any],\n\u001b[1;32m   5059\u001b[0m ) \u001b[39m-\u001b[39m\u001b[39m>\u001b[39m Output:\n\u001b[0;32m-> 5060\u001b[0m     \u001b[39mreturn\u001b[39;00m \u001b[39mself\u001b[39;49m\u001b[39m.\u001b[39;49mbound\u001b[39m.\u001b[39;49minvoke(\n\u001b[1;32m   5061\u001b[0m         \u001b[39minput\u001b[39;49m,\n\u001b[1;32m   5062\u001b[0m         \u001b[39mself\u001b[39;49m\u001b[39m.\u001b[39;49m_merge_configs(config),\n\u001b[1;32m   5063\u001b[0m         \u001b[39m*\u001b[39;49m\u001b[39m*\u001b[39;49m{\u001b[39m*\u001b[39;49m\u001b[39m*\u001b[39;49m\u001b[39mself\u001b[39;49m\u001b[39m.\u001b[39;49mkwargs, \u001b[39m*\u001b[39;49m\u001b[39m*\u001b[39;49mkwargs},\n\u001b[1;32m   5064\u001b[0m     )\n",
      "File \u001b[0;32m~/miniconda3/envs/capstone_2/lib/python3.9/site-packages/langchain_core/runnables/base.py:2875\u001b[0m, in \u001b[0;36mRunnableSequence.invoke\u001b[0;34m(self, input, config, **kwargs)\u001b[0m\n\u001b[1;32m   2873\u001b[0m             \u001b[39minput\u001b[39m \u001b[39m=\u001b[39m step\u001b[39m.\u001b[39minvoke(\u001b[39minput\u001b[39m, config, \u001b[39m*\u001b[39m\u001b[39m*\u001b[39mkwargs)\n\u001b[1;32m   2874\u001b[0m         \u001b[39melse\u001b[39;00m:\n\u001b[0;32m-> 2875\u001b[0m             \u001b[39minput\u001b[39m \u001b[39m=\u001b[39m step\u001b[39m.\u001b[39;49minvoke(\u001b[39minput\u001b[39;49m, config)\n\u001b[1;32m   2876\u001b[0m \u001b[39m# finish the root run\u001b[39;00m\n\u001b[1;32m   2877\u001b[0m \u001b[39mexcept\u001b[39;00m \u001b[39mBaseException\u001b[39;00m \u001b[39mas\u001b[39;00m e:\n",
      "File \u001b[0;32m~/miniconda3/envs/capstone_2/lib/python3.9/site-packages/langchain_core/runnables/branch.py:239\u001b[0m, in \u001b[0;36mRunnableBranch.invoke\u001b[0;34m(self, input, config, **kwargs)\u001b[0m\n\u001b[1;32m    237\u001b[0m             \u001b[39mbreak\u001b[39;00m\n\u001b[1;32m    238\u001b[0m     \u001b[39melse\u001b[39;00m:\n\u001b[0;32m--> 239\u001b[0m         output \u001b[39m=\u001b[39m \u001b[39mself\u001b[39;49m\u001b[39m.\u001b[39;49mdefault\u001b[39m.\u001b[39;49minvoke(\n\u001b[1;32m    240\u001b[0m             \u001b[39minput\u001b[39;49m,\n\u001b[1;32m    241\u001b[0m             config\u001b[39m=\u001b[39;49mpatch_config(\n\u001b[1;32m    242\u001b[0m                 config, callbacks\u001b[39m=\u001b[39;49mrun_manager\u001b[39m.\u001b[39;49mget_child(tag\u001b[39m=\u001b[39;49m\u001b[39m\"\u001b[39;49m\u001b[39mbranch:default\u001b[39;49m\u001b[39m\"\u001b[39;49m)\n\u001b[1;32m    243\u001b[0m             ),\n\u001b[1;32m    244\u001b[0m             \u001b[39m*\u001b[39;49m\u001b[39m*\u001b[39;49mkwargs,\n\u001b[1;32m    245\u001b[0m         )\n\u001b[1;32m    246\u001b[0m \u001b[39mexcept\u001b[39;00m \u001b[39mBaseException\u001b[39;00m \u001b[39mas\u001b[39;00m e:\n\u001b[1;32m    247\u001b[0m     run_manager\u001b[39m.\u001b[39mon_chain_error(e)\n",
      "File \u001b[0;32m~/miniconda3/envs/capstone_2/lib/python3.9/site-packages/langchain_core/runnables/base.py:5060\u001b[0m, in \u001b[0;36mRunnableBindingBase.invoke\u001b[0;34m(self, input, config, **kwargs)\u001b[0m\n\u001b[1;32m   5054\u001b[0m \u001b[39mdef\u001b[39;00m \u001b[39minvoke\u001b[39m(\n\u001b[1;32m   5055\u001b[0m     \u001b[39mself\u001b[39m,\n\u001b[1;32m   5056\u001b[0m     \u001b[39minput\u001b[39m: Input,\n\u001b[1;32m   5057\u001b[0m     config: Optional[RunnableConfig] \u001b[39m=\u001b[39m \u001b[39mNone\u001b[39;00m,\n\u001b[1;32m   5058\u001b[0m     \u001b[39m*\u001b[39m\u001b[39m*\u001b[39mkwargs: Optional[Any],\n\u001b[1;32m   5059\u001b[0m ) \u001b[39m-\u001b[39m\u001b[39m>\u001b[39m Output:\n\u001b[0;32m-> 5060\u001b[0m     \u001b[39mreturn\u001b[39;00m \u001b[39mself\u001b[39;49m\u001b[39m.\u001b[39;49mbound\u001b[39m.\u001b[39;49minvoke(\n\u001b[1;32m   5061\u001b[0m         \u001b[39minput\u001b[39;49m,\n\u001b[1;32m   5062\u001b[0m         \u001b[39mself\u001b[39;49m\u001b[39m.\u001b[39;49m_merge_configs(config),\n\u001b[1;32m   5063\u001b[0m         \u001b[39m*\u001b[39;49m\u001b[39m*\u001b[39;49m{\u001b[39m*\u001b[39;49m\u001b[39m*\u001b[39;49m\u001b[39mself\u001b[39;49m\u001b[39m.\u001b[39;49mkwargs, \u001b[39m*\u001b[39;49m\u001b[39m*\u001b[39;49mkwargs},\n\u001b[1;32m   5064\u001b[0m     )\n",
      "File \u001b[0;32m~/miniconda3/envs/capstone_2/lib/python3.9/site-packages/langchain_core/runnables/base.py:2875\u001b[0m, in \u001b[0;36mRunnableSequence.invoke\u001b[0;34m(self, input, config, **kwargs)\u001b[0m\n\u001b[1;32m   2873\u001b[0m             \u001b[39minput\u001b[39m \u001b[39m=\u001b[39m step\u001b[39m.\u001b[39minvoke(\u001b[39minput\u001b[39m, config, \u001b[39m*\u001b[39m\u001b[39m*\u001b[39mkwargs)\n\u001b[1;32m   2874\u001b[0m         \u001b[39melse\u001b[39;00m:\n\u001b[0;32m-> 2875\u001b[0m             \u001b[39minput\u001b[39m \u001b[39m=\u001b[39m step\u001b[39m.\u001b[39;49minvoke(\u001b[39minput\u001b[39;49m, config)\n\u001b[1;32m   2876\u001b[0m \u001b[39m# finish the root run\u001b[39;00m\n\u001b[1;32m   2877\u001b[0m \u001b[39mexcept\u001b[39;00m \u001b[39mBaseException\u001b[39;00m \u001b[39mas\u001b[39;00m e:\n",
      "File \u001b[0;32m~/miniconda3/envs/capstone_2/lib/python3.9/site-packages/langchain_core/runnables/passthrough.py:495\u001b[0m, in \u001b[0;36mRunnableAssign.invoke\u001b[0;34m(self, input, config, **kwargs)\u001b[0m\n\u001b[1;32m    489\u001b[0m \u001b[39mdef\u001b[39;00m \u001b[39minvoke\u001b[39m(\n\u001b[1;32m    490\u001b[0m     \u001b[39mself\u001b[39m,\n\u001b[1;32m    491\u001b[0m     \u001b[39minput\u001b[39m: Dict[\u001b[39mstr\u001b[39m, Any],\n\u001b[1;32m    492\u001b[0m     config: Optional[RunnableConfig] \u001b[39m=\u001b[39m \u001b[39mNone\u001b[39;00m,\n\u001b[1;32m    493\u001b[0m     \u001b[39m*\u001b[39m\u001b[39m*\u001b[39mkwargs: Any,\n\u001b[1;32m    494\u001b[0m ) \u001b[39m-\u001b[39m\u001b[39m>\u001b[39m Dict[\u001b[39mstr\u001b[39m, Any]:\n\u001b[0;32m--> 495\u001b[0m     \u001b[39mreturn\u001b[39;00m \u001b[39mself\u001b[39;49m\u001b[39m.\u001b[39;49m_call_with_config(\u001b[39mself\u001b[39;49m\u001b[39m.\u001b[39;49m_invoke, \u001b[39minput\u001b[39;49m, config, \u001b[39m*\u001b[39;49m\u001b[39m*\u001b[39;49mkwargs)\n",
      "File \u001b[0;32m~/miniconda3/envs/capstone_2/lib/python3.9/site-packages/langchain_core/runnables/base.py:1784\u001b[0m, in \u001b[0;36mRunnable._call_with_config\u001b[0;34m(self, func, input, config, run_type, **kwargs)\u001b[0m\n\u001b[1;32m   1780\u001b[0m     context \u001b[39m=\u001b[39m copy_context()\n\u001b[1;32m   1781\u001b[0m     context\u001b[39m.\u001b[39mrun(_set_config_context, child_config)\n\u001b[1;32m   1782\u001b[0m     output \u001b[39m=\u001b[39m cast(\n\u001b[1;32m   1783\u001b[0m         Output,\n\u001b[0;32m-> 1784\u001b[0m         context\u001b[39m.\u001b[39;49mrun(\n\u001b[1;32m   1785\u001b[0m             call_func_with_variable_args,  \u001b[39m# type: ignore[arg-type]\u001b[39;49;00m\n\u001b[1;32m   1786\u001b[0m             func,  \u001b[39m# type: ignore[arg-type]\u001b[39;49;00m\n\u001b[1;32m   1787\u001b[0m             \u001b[39minput\u001b[39;49m,  \u001b[39m# type: ignore[arg-type]\u001b[39;49;00m\n\u001b[1;32m   1788\u001b[0m             config,\n\u001b[1;32m   1789\u001b[0m             run_manager,\n\u001b[1;32m   1790\u001b[0m             \u001b[39m*\u001b[39;49m\u001b[39m*\u001b[39;49mkwargs,\n\u001b[1;32m   1791\u001b[0m         ),\n\u001b[1;32m   1792\u001b[0m     )\n\u001b[1;32m   1793\u001b[0m \u001b[39mexcept\u001b[39;00m \u001b[39mBaseException\u001b[39;00m \u001b[39mas\u001b[39;00m e:\n\u001b[1;32m   1794\u001b[0m     run_manager\u001b[39m.\u001b[39mon_chain_error(e)\n",
      "File \u001b[0;32m~/miniconda3/envs/capstone_2/lib/python3.9/site-packages/langchain_core/runnables/config.py:404\u001b[0m, in \u001b[0;36mcall_func_with_variable_args\u001b[0;34m(func, input, config, run_manager, **kwargs)\u001b[0m\n\u001b[1;32m    402\u001b[0m \u001b[39mif\u001b[39;00m run_manager \u001b[39mis\u001b[39;00m \u001b[39mnot\u001b[39;00m \u001b[39mNone\u001b[39;00m \u001b[39mand\u001b[39;00m accepts_run_manager(func):\n\u001b[1;32m    403\u001b[0m     kwargs[\u001b[39m\"\u001b[39m\u001b[39mrun_manager\u001b[39m\u001b[39m\"\u001b[39m] \u001b[39m=\u001b[39m run_manager\n\u001b[0;32m--> 404\u001b[0m \u001b[39mreturn\u001b[39;00m func(\u001b[39minput\u001b[39;49m, \u001b[39m*\u001b[39;49m\u001b[39m*\u001b[39;49mkwargs)\n",
      "File \u001b[0;32m~/miniconda3/envs/capstone_2/lib/python3.9/site-packages/langchain_core/runnables/passthrough.py:482\u001b[0m, in \u001b[0;36mRunnableAssign._invoke\u001b[0;34m(self, input, run_manager, config, **kwargs)\u001b[0m\n\u001b[1;32m    469\u001b[0m \u001b[39mdef\u001b[39;00m \u001b[39m_invoke\u001b[39m(\n\u001b[1;32m    470\u001b[0m     \u001b[39mself\u001b[39m,\n\u001b[1;32m    471\u001b[0m     \u001b[39minput\u001b[39m: Dict[\u001b[39mstr\u001b[39m, Any],\n\u001b[0;32m   (...)\u001b[0m\n\u001b[1;32m    474\u001b[0m     \u001b[39m*\u001b[39m\u001b[39m*\u001b[39mkwargs: Any,\n\u001b[1;32m    475\u001b[0m ) \u001b[39m-\u001b[39m\u001b[39m>\u001b[39m Dict[\u001b[39mstr\u001b[39m, Any]:\n\u001b[1;32m    476\u001b[0m     \u001b[39massert\u001b[39;00m \u001b[39misinstance\u001b[39m(\n\u001b[1;32m    477\u001b[0m         \u001b[39minput\u001b[39m, \u001b[39mdict\u001b[39m\n\u001b[1;32m    478\u001b[0m     ), \u001b[39m\"\u001b[39m\u001b[39mThe input to RunnablePassthrough.assign() must be a dict.\u001b[39m\u001b[39m\"\u001b[39m\n\u001b[1;32m    480\u001b[0m     \u001b[39mreturn\u001b[39;00m {\n\u001b[1;32m    481\u001b[0m         \u001b[39m*\u001b[39m\u001b[39m*\u001b[39m\u001b[39minput\u001b[39m,\n\u001b[0;32m--> 482\u001b[0m         \u001b[39m*\u001b[39m\u001b[39m*\u001b[39m\u001b[39mself\u001b[39;49m\u001b[39m.\u001b[39;49mmapper\u001b[39m.\u001b[39;49minvoke(\n\u001b[1;32m    483\u001b[0m             \u001b[39minput\u001b[39;49m,\n\u001b[1;32m    484\u001b[0m             patch_config(config, callbacks\u001b[39m=\u001b[39;49mrun_manager\u001b[39m.\u001b[39;49mget_child()),\n\u001b[1;32m    485\u001b[0m             \u001b[39m*\u001b[39;49m\u001b[39m*\u001b[39;49mkwargs,\n\u001b[1;32m    486\u001b[0m         ),\n\u001b[1;32m    487\u001b[0m     }\n",
      "File \u001b[0;32m~/miniconda3/envs/capstone_2/lib/python3.9/site-packages/langchain_core/runnables/base.py:3562\u001b[0m, in \u001b[0;36mRunnableParallel.invoke\u001b[0;34m(self, input, config)\u001b[0m\n\u001b[1;32m   3549\u001b[0m     \u001b[39mwith\u001b[39;00m get_executor_for_config(config) \u001b[39mas\u001b[39;00m executor:\n\u001b[1;32m   3550\u001b[0m         futures \u001b[39m=\u001b[39m [\n\u001b[1;32m   3551\u001b[0m             executor\u001b[39m.\u001b[39msubmit(\n\u001b[1;32m   3552\u001b[0m                 step\u001b[39m.\u001b[39minvoke,\n\u001b[0;32m   (...)\u001b[0m\n\u001b[1;32m   3560\u001b[0m             \u001b[39mfor\u001b[39;00m key, step \u001b[39min\u001b[39;00m steps\u001b[39m.\u001b[39mitems()\n\u001b[1;32m   3561\u001b[0m         ]\n\u001b[0;32m-> 3562\u001b[0m         output \u001b[39m=\u001b[39m {key: future\u001b[39m.\u001b[39mresult() \u001b[39mfor\u001b[39;00m key, future \u001b[39min\u001b[39;00m \u001b[39mzip\u001b[39m(steps, futures)}\n\u001b[1;32m   3563\u001b[0m \u001b[39m# finish the root run\u001b[39;00m\n\u001b[1;32m   3564\u001b[0m \u001b[39mexcept\u001b[39;00m \u001b[39mBaseException\u001b[39;00m \u001b[39mas\u001b[39;00m e:\n",
      "File \u001b[0;32m~/miniconda3/envs/capstone_2/lib/python3.9/contextlib.py:137\u001b[0m, in \u001b[0;36m_GeneratorContextManager.__exit__\u001b[0;34m(self, typ, value, traceback)\u001b[0m\n\u001b[1;32m    135\u001b[0m     value \u001b[39m=\u001b[39m typ()\n\u001b[1;32m    136\u001b[0m \u001b[39mtry\u001b[39;00m:\n\u001b[0;32m--> 137\u001b[0m     \u001b[39mself\u001b[39;49m\u001b[39m.\u001b[39;49mgen\u001b[39m.\u001b[39;49mthrow(typ, value, traceback)\n\u001b[1;32m    138\u001b[0m \u001b[39mexcept\u001b[39;00m \u001b[39mStopIteration\u001b[39;00m \u001b[39mas\u001b[39;00m exc:\n\u001b[1;32m    139\u001b[0m     \u001b[39m# Suppress StopIteration *unless* it's the same exception that\u001b[39;00m\n\u001b[1;32m    140\u001b[0m     \u001b[39m# was passed to throw().  This prevents a StopIteration\u001b[39;00m\n\u001b[1;32m    141\u001b[0m     \u001b[39m# raised inside the \"with\" statement from being suppressed.\u001b[39;00m\n\u001b[1;32m    142\u001b[0m     \u001b[39mreturn\u001b[39;00m exc \u001b[39mis\u001b[39;00m \u001b[39mnot\u001b[39;00m value\n",
      "File \u001b[0;32m~/miniconda3/envs/capstone_2/lib/python3.9/site-packages/langchain_core/runnables/config.py:561\u001b[0m, in \u001b[0;36mget_executor_for_config\u001b[0;34m(config)\u001b[0m\n\u001b[1;32m    557\u001b[0m config \u001b[39m=\u001b[39m config \u001b[39mor\u001b[39;00m {}\n\u001b[1;32m    558\u001b[0m \u001b[39mwith\u001b[39;00m ContextThreadPoolExecutor(\n\u001b[1;32m    559\u001b[0m     max_workers\u001b[39m=\u001b[39mconfig\u001b[39m.\u001b[39mget(\u001b[39m\"\u001b[39m\u001b[39mmax_concurrency\u001b[39m\u001b[39m\"\u001b[39m)\n\u001b[1;32m    560\u001b[0m ) \u001b[39mas\u001b[39;00m executor:\n\u001b[0;32m--> 561\u001b[0m     \u001b[39myield\u001b[39;00m executor\n",
      "File \u001b[0;32m~/miniconda3/envs/capstone_2/lib/python3.9/concurrent/futures/_base.py:637\u001b[0m, in \u001b[0;36mExecutor.__exit__\u001b[0;34m(self, exc_type, exc_val, exc_tb)\u001b[0m\n\u001b[1;32m    636\u001b[0m \u001b[39mdef\u001b[39;00m \u001b[39m__exit__\u001b[39m(\u001b[39mself\u001b[39m, exc_type, exc_val, exc_tb):\n\u001b[0;32m--> 637\u001b[0m     \u001b[39mself\u001b[39;49m\u001b[39m.\u001b[39;49mshutdown(wait\u001b[39m=\u001b[39;49m\u001b[39mTrue\u001b[39;49;00m)\n\u001b[1;32m    638\u001b[0m     \u001b[39mreturn\u001b[39;00m \u001b[39mFalse\u001b[39;00m\n",
      "File \u001b[0;32m~/miniconda3/envs/capstone_2/lib/python3.9/concurrent/futures/thread.py:235\u001b[0m, in \u001b[0;36mThreadPoolExecutor.shutdown\u001b[0;34m(self, wait, cancel_futures)\u001b[0m\n\u001b[1;32m    233\u001b[0m \u001b[39mif\u001b[39;00m wait:\n\u001b[1;32m    234\u001b[0m     \u001b[39mfor\u001b[39;00m t \u001b[39min\u001b[39;00m \u001b[39mself\u001b[39m\u001b[39m.\u001b[39m_threads:\n\u001b[0;32m--> 235\u001b[0m         t\u001b[39m.\u001b[39;49mjoin()\n",
      "File \u001b[0;32m~/miniconda3/envs/capstone_2/lib/python3.9/threading.py:1060\u001b[0m, in \u001b[0;36mThread.join\u001b[0;34m(self, timeout)\u001b[0m\n\u001b[1;32m   1057\u001b[0m     \u001b[39mraise\u001b[39;00m \u001b[39mRuntimeError\u001b[39;00m(\u001b[39m\"\u001b[39m\u001b[39mcannot join current thread\u001b[39m\u001b[39m\"\u001b[39m)\n\u001b[1;32m   1059\u001b[0m \u001b[39mif\u001b[39;00m timeout \u001b[39mis\u001b[39;00m \u001b[39mNone\u001b[39;00m:\n\u001b[0;32m-> 1060\u001b[0m     \u001b[39mself\u001b[39;49m\u001b[39m.\u001b[39;49m_wait_for_tstate_lock()\n\u001b[1;32m   1061\u001b[0m \u001b[39melse\u001b[39;00m:\n\u001b[1;32m   1062\u001b[0m     \u001b[39m# the behavior of a negative timeout isn't documented, but\u001b[39;00m\n\u001b[1;32m   1063\u001b[0m     \u001b[39m# historically .join(timeout=x) for x<0 has acted as if timeout=0\u001b[39;00m\n\u001b[1;32m   1064\u001b[0m     \u001b[39mself\u001b[39m\u001b[39m.\u001b[39m_wait_for_tstate_lock(timeout\u001b[39m=\u001b[39m\u001b[39mmax\u001b[39m(timeout, \u001b[39m0\u001b[39m))\n",
      "File \u001b[0;32m~/miniconda3/envs/capstone_2/lib/python3.9/threading.py:1080\u001b[0m, in \u001b[0;36mThread._wait_for_tstate_lock\u001b[0;34m(self, block, timeout)\u001b[0m\n\u001b[1;32m   1077\u001b[0m     \u001b[39mreturn\u001b[39;00m\n\u001b[1;32m   1079\u001b[0m \u001b[39mtry\u001b[39;00m:\n\u001b[0;32m-> 1080\u001b[0m     \u001b[39mif\u001b[39;00m lock\u001b[39m.\u001b[39;49macquire(block, timeout):\n\u001b[1;32m   1081\u001b[0m         lock\u001b[39m.\u001b[39mrelease()\n\u001b[1;32m   1082\u001b[0m         \u001b[39mself\u001b[39m\u001b[39m.\u001b[39m_stop()\n",
      "\u001b[0;31mKeyboardInterrupt\u001b[0m: "
     ]
    }
   ],
   "source": [
    "print(conversational_rag_chain.invoke(\n",
    "    {\"input\": \"can you give some more examples and use cases?\"},\n",
    "    config={\"configurable\": {\"session_id\": \"abc123\"}},\n",
    ")[\"answer\"])"
   ]
  },
  {
   "cell_type": "code",
   "execution_count": null,
   "id": "bf22bd98-6734-4be5-b016-93febb057b59",
   "metadata": {},
   "outputs": [
    {
     "data": {
      "text/plain": [
       "{'abc123': InMemoryChatMessageHistory(messages=[HumanMessage(content='What is Task Decomposition?'), AIMessage(content=\"I don't know. The provided context does not mention Task Decomposition.\"), HumanMessage(content='how can i create a 2d array?'), AIMessage(content='You can create a 2D array in NumPy using the np.array() function with a list of lists. For example: `a = np.array([[1, 2, 3], [4, 5, 6]])`. Alternatively, you can use the np.arange() function and the reshape() method, as shown in the example: `a = np.arange(4).reshape(2,2)`.'), HumanMessage(content='can you elaborate more on a = np.arange(4).reshape(2,2)?'), AIMessage(content='`np.arange(4)` generates an array of numbers from 0 to 3, which is a 1D array: `[0, 1, 2, 3]`. The `reshape(2,2)` method then reshapes this array into a 2D array with 2 rows and 2 columns: `[[0, 1], [2, 3]]`.'), HumanMessage(content='can you give some more examples and use cases?'), AIMessage(content='Here are a few more examples:\\n\\n* `a = np.arange(6).reshape(2,3)` generates a 2D array: `[[0, 1, 2], [3, 4, 5]]`\\n* `a = np.arange(9).reshape(3,3)` generates a 2D array: `[[0, 1, 2], [3, 4, 5], [6, 7, 8]]`\\n* `a = np.arange(12).reshape(3,4)` generates a 2D array: `[[0, 1, 2, 3], [4, 5, 6, 7], [8, 9, 10, 11]]`\\n\\nYou can also use this method to create arrays with more complex shapes, such as:\\n* `a = np.arange(24).reshape(2,2,6)` generates a 3D array with shape `(2,2,6)`\\n* `a = np.arange(64).reshape(4,4,4)` generates a 3D array with shape `(4,4,4)`\\n\\nThis method is useful when you need to create arrays with specific shapes for matrix operations or other numerical computations.\\n\\nYou can also use the np.arange() function with the np.meshgrid() function to create 2D arrays with specific shapes, like this:\\n* `x, y = np.meshgrid(np.arange(3), np.arange(3))` generates a 2D array: `[[0, 0, 0], [0, 0, 0], [0, 0, 0]]`\\n* `x, y = np.meshgrid(np.arange(2), np.arange(4))` generates a 2D array: `[[0, 0, 0, 0], [1, 1, 1, 1]]`\\n\\nThis method is useful when you need to create arrays with specific shapes for plotting or other graphical computations.'), HumanMessage(content='can you give some more examples and use cases?'), AIMessage(content='Here are a few more examples:\\n\\n* Creating a 2D array with specific values:\\n`a = np.array([[1, 2, 3], [4, 5, 6]])`\\n* Creating a 2D array with repeating values:\\n`a = np.full((3, 3), 5)` generates a 2D array: `[[5, 5, 5], [5, 5, 5], [5, 5, 5]]`\\n* Creating a 2D array with random values:\\n`a = np.random.rand(3, 3)` generates a 2D array with random values between 0 and 1\\n* Creating a 2D array with specific values, but with different data types:\\n`a = np.array([[1.0, 2.0, 3.0], [4.0, 5.0, 6.0]], dtype=np.int32)` generates a 2D array with integer values\\n* Creating a 2D array with NaN values:\\n`a = np.array([[1, 2, 3], [np.nan, 5, 6]])` generates a 2D array with NaN values\\n\\nSome use cases for creating 2D arrays include:\\n\\n* Creating matrices for linear algebra operations\\n* Representing images or other 2D data\\n* Creating lookup tables for interpolation or other numerical computations\\n* Initializing arrays for machine learning or deep learning models\\n\\nSome specific examples of 2D arrays include:\\n\\n* A 2D array representing a chessboard:\\n`a = np.array([[0, 0, 0, 0, 0, 0, 0, 0],\\n              [0, 0, 0, 0, 0, 0, 0, 0],\\n              [0, 0, 0, 0, 0, 0, 0, 0],\\n              [0, 0, 0, 0, 0, 0, 0, 0],\\n              [0, 0, 0, 0, 0, 0, 0, 0],\\n              [0, 0, 0, 0, 0, 0, 0, 0],\\n              [0, 0, 0, 0, 0, 0, 0, 0],\\n              [0, 0, 0, 0, 0, 0, 0, 0]])`\\n* A 2D array representing a grayscale image:\\n`a = np.array([[10, 20, 30, 40, 50, 60, 70, 80],\\n              [10, 20, 30, 40, 50, 60, 70, 80],\\n              [10, 20, 30, 40, 50, 60, 70, 80],\\n              [10, 20, 30, 40, 50, 60, 70, 80],\\n              [10, 20, 30, 40, 50, 60, 70, 80],\\n              [10, 20, 30, 40, 50, 60, 70, 80],\\n              [10, 20, 30, 40, 50, 60, 70, 80],\\n              [10, 20, 30, 40, 50, 60, 70, 80]])`')])}"
      ]
     },
     "execution_count": 47,
     "metadata": {},
     "output_type": "execute_result"
    }
   ],
   "source": [
    "store"
   ]
  },
  {
   "cell_type": "code",
   "execution_count": null,
   "id": "480b5a24-e246-41ee-84f9-bbfc2243d22e",
   "metadata": {},
   "outputs": [
    {
     "name": "stdout",
     "output_type": "stream",
     "text": [
      "I'm an assistant for question-answering tasks. I was trained on a large corpus of text and can provide concise answers to a wide range of questions. I don't have personal opinions or emotions, and I don't know everything, but I'll do my best to provide a helpful response to your question.\n"
     ]
    }
   ],
   "source": [
    "print(conversational_rag_chain.invoke(\n",
    "    {\"input\": \"who are you?\"},\n",
    "    config={\"configurable\": {\"session_id\": \"xyz456\"}},\n",
    ")[\"answer\"])"
   ]
  },
  {
   "cell_type": "code",
   "execution_count": null,
   "id": "afccb06b-9516-4608-a5e8-6af15e600ba7",
   "metadata": {},
   "outputs": [
    {
     "data": {
      "text/plain": [
       "{'abc123': InMemoryChatMessageHistory(messages=[HumanMessage(content='What is Task Decomposition?'), AIMessage(content=\"I don't know. The provided context does not mention Task Decomposition.\"), HumanMessage(content='how can i create a 2d array?'), AIMessage(content='You can create a 2D array in NumPy using the np.array() function with a list of lists. For example: `a = np.array([[1, 2, 3], [4, 5, 6]])`. Alternatively, you can use the np.arange() function and the reshape() method, as shown in the example: `a = np.arange(4).reshape(2,2)`.'), HumanMessage(content='can you elaborate more on a = np.arange(4).reshape(2,2)?'), AIMessage(content='`np.arange(4)` generates an array of numbers from 0 to 3, which is a 1D array: `[0, 1, 2, 3]`. The `reshape(2,2)` method then reshapes this array into a 2D array with 2 rows and 2 columns: `[[0, 1], [2, 3]]`.'), HumanMessage(content='can you give some more examples and use cases?'), AIMessage(content='Here are a few more examples:\\n\\n* `a = np.arange(6).reshape(2,3)` generates a 2D array: `[[0, 1, 2], [3, 4, 5]]`\\n* `a = np.arange(9).reshape(3,3)` generates a 2D array: `[[0, 1, 2], [3, 4, 5], [6, 7, 8]]`\\n* `a = np.arange(12).reshape(3,4)` generates a 2D array: `[[0, 1, 2, 3], [4, 5, 6, 7], [8, 9, 10, 11]]`\\n\\nYou can also use this method to create arrays with more complex shapes, such as:\\n* `a = np.arange(24).reshape(2,2,6)` generates a 3D array with shape `(2,2,6)`\\n* `a = np.arange(64).reshape(4,4,4)` generates a 3D array with shape `(4,4,4)`\\n\\nThis method is useful when you need to create arrays with specific shapes for matrix operations or other numerical computations.\\n\\nYou can also use the np.arange() function with the np.meshgrid() function to create 2D arrays with specific shapes, like this:\\n* `x, y = np.meshgrid(np.arange(3), np.arange(3))` generates a 2D array: `[[0, 0, 0], [0, 0, 0], [0, 0, 0]]`\\n* `x, y = np.meshgrid(np.arange(2), np.arange(4))` generates a 2D array: `[[0, 0, 0, 0], [1, 1, 1, 1]]`\\n\\nThis method is useful when you need to create arrays with specific shapes for plotting or other graphical computations.'), HumanMessage(content='can you give some more examples and use cases?'), AIMessage(content='Here are a few more examples:\\n\\n* Creating a 2D array with specific values:\\n`a = np.array([[1, 2, 3], [4, 5, 6]])`\\n* Creating a 2D array with repeating values:\\n`a = np.full((3, 3), 5)` generates a 2D array: `[[5, 5, 5], [5, 5, 5], [5, 5, 5]]`\\n* Creating a 2D array with random values:\\n`a = np.random.rand(3, 3)` generates a 2D array with random values between 0 and 1\\n* Creating a 2D array with specific values, but with different data types:\\n`a = np.array([[1.0, 2.0, 3.0], [4.0, 5.0, 6.0]], dtype=np.int32)` generates a 2D array with integer values\\n* Creating a 2D array with NaN values:\\n`a = np.array([[1, 2, 3], [np.nan, 5, 6]])` generates a 2D array with NaN values\\n\\nSome use cases for creating 2D arrays include:\\n\\n* Creating matrices for linear algebra operations\\n* Representing images or other 2D data\\n* Creating lookup tables for interpolation or other numerical computations\\n* Initializing arrays for machine learning or deep learning models\\n\\nSome specific examples of 2D arrays include:\\n\\n* A 2D array representing a chessboard:\\n`a = np.array([[0, 0, 0, 0, 0, 0, 0, 0],\\n              [0, 0, 0, 0, 0, 0, 0, 0],\\n              [0, 0, 0, 0, 0, 0, 0, 0],\\n              [0, 0, 0, 0, 0, 0, 0, 0],\\n              [0, 0, 0, 0, 0, 0, 0, 0],\\n              [0, 0, 0, 0, 0, 0, 0, 0],\\n              [0, 0, 0, 0, 0, 0, 0, 0],\\n              [0, 0, 0, 0, 0, 0, 0, 0]])`\\n* A 2D array representing a grayscale image:\\n`a = np.array([[10, 20, 30, 40, 50, 60, 70, 80],\\n              [10, 20, 30, 40, 50, 60, 70, 80],\\n              [10, 20, 30, 40, 50, 60, 70, 80],\\n              [10, 20, 30, 40, 50, 60, 70, 80],\\n              [10, 20, 30, 40, 50, 60, 70, 80],\\n              [10, 20, 30, 40, 50, 60, 70, 80],\\n              [10, 20, 30, 40, 50, 60, 70, 80],\\n              [10, 20, 30, 40, 50, 60, 70, 80]])`')]),\n",
       " 'abc456': InMemoryChatMessageHistory(messages=[HumanMessage(content='can you give some more examples and use cases?'), AIMessage(content=\"Here are a few more examples and use cases:\\n\\n**1. Extending pandas with custom data types**\\n\\nYou can create a custom data type that extends NumPy's type system using the `pandas.api.extensions.ExtensionDtype` interface. For example, you could create a data type for representing IP addresses:\\n```python\\nimport numpy as np\\nfrom pandas.api.extensions import ExtensionDtype\\n\\nclass IPAddrDtype(ExtensionDtype):\\n    type = np.dtype(np.str)\\n    name = 'ipaddr'\\n\\n    def can_coerce(self, other):\\n        if isinstance(other, str):\\n            return True\\n        return False\\n\\n    def __reduce__(self):\\n        return self.__class__\\n\\ndf = pd.DataFrame({'ip': ['192.168.1.1', '192.168.1.2']})\\ndf['ip'] = pd.Series(df['ip'], dtype=IPAddrDtype())\\n```\\n**2. Creating custom accessors**\\n\\nYou can create a custom accessor for a pandas object using the `pandas.api.extensions.ExtensionAccessor` interface. For example, you could create an accessor for working with datetime data:\\n```python\\nfrom pandas.api.extensions import ExtensionAccessor\\n\\nclass DatetimeAccessor:\\n    def __init__(self, obj):\\n        self.obj = obj\\n\\n    def date_range(self):\\n        return self.obj['date'].dt.to_period('D')\\n\\ndf = pd.DataFrame({'date': ['2022-01-01', '2022-01-02']})\\ndf['date'] = pd.Series(df['date'], dtype='datetime64[ns]')\\naccessor = DatetimeAccessor(df)\\nprint(accessor.date_range())\\n```\\n**3. Using `pipe` to chain operations**\\n\\nYou can use the `pipe` method to chain operations together, making your code more readable and concise. For example:\\n```python\\nimport pandas as pd\\n\\ndf = pd.DataFrame({'a': [1, 2, 3], 'b': [4, 5, 6]})\\n\\ndf = (df\\n      .groupby('a')\\n      .apply(lambda x: x * 2)\\n      .pipe(lambda x: x + 1)\\n      .pipe(lambda x: x / 2))\\nprint(df)\\n```\\n**4. Mutating with UDF methods**\\n\\nWhen using UDF methods like `apply`, `aggregate`, `transform`, and `filter`, be careful not to mutate the original DataFrame. For example:\\n```python\\nimport pandas as pd\\n\\ndf = pd.DataFrame({'a': [1, 2, 3], 'b': [4, 5, 6]})\\n\\ndef f(x):\\n    x['a'] = x['a'] + 1\\n    return x\\n\\ndf = df.apply(f)\\nprint(df)\\n```\\nIn this example, the `apply` method is iterating over the rows of the DataFrame, and the UDF `f` is modifying the original DataFrame. This can lead to unexpected behavior. Instead, use the `copy` method to create a copy of the DataFrame before applying the UDF:\\n```python\\ndf = df.copy()\\ndf = df.apply(f)\\nprint(df)\\n```\\nI hope these examples and use cases are helpful! Let me know if you have any further questions.\")]),\n",
       " 'xyz456': InMemoryChatMessageHistory(messages=[HumanMessage(content='who are you?'), AIMessage(content=\"I'm an assistant for question-answering tasks. I was trained on a large corpus of text and can provide concise answers to a wide range of questions. I don't have personal opinions or emotions, and I don't know everything, but I'll do my best to provide a helpful response to your question.\")])}"
      ]
     },
     "execution_count": 51,
     "metadata": {},
     "output_type": "execute_result"
    }
   ],
   "source": [
    "store"
   ]
  }
 ],
 "metadata": {
  "kernelspec": {
   "display_name": "Python 3.9.19 ('capstone_2')",
   "language": "python",
   "name": "python3"
  },
  "language_info": {
   "codemirror_mode": {
    "name": "ipython",
    "version": 3
   },
   "file_extension": ".py",
   "mimetype": "text/x-python",
   "name": "python",
   "nbconvert_exporter": "python",
   "pygments_lexer": "ipython3",
   "version": "3.9.19"
  },
  "vscode": {
   "interpreter": {
    "hash": "e1724946d96863f06248c9017cc9445c65c29b8a8b3883487c3fdbdc369b2c93"
   }
  }
 },
 "nbformat": 4,
 "nbformat_minor": 5
}
